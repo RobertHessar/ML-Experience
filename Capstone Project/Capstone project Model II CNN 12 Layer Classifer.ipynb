{
 "cells": [
  {
   "cell_type": "markdown",
   "metadata": {},
   "source": [
    "###### Import the Required Packages\n"
   ]
  },
  {
   "cell_type": "code",
   "execution_count": null,
   "metadata": {},
   "outputs": [],
   "source": [
    "from keras.models import Sequential\n",
    "from keras.layers import Conv2D\n",
    "from keras.layers import MaxPooling2D\n",
    "from keras.preprocessing.image import ImageDataGenerator\n",
    "from keras import layers\n",
    "from keras import models\n",
    "from keras import optimizers\n",
    "from keras.preprocessing.image import img_to_array, load_img\n",
    "from keras.layers import BatchNormalization\n",
    "from keras.layers import Flatten, Dense, Dropout\n",
    "from keras.callbacks import EarlyStopping, ReduceLROnPlateau\n",
    "from keras.callbacks import ModelCheckpoint\n",
    "from sklearn.model_selection import train_test_split\n",
    "import os\n",
    "import matplotlib as mpl\n",
    "import matplotlib.pyplot as plt\n",
    "from IPython.display import display\n",
    "%matplotlib inline\n",
    "import pandas as pd\n",
    "import numpy as np\n",
    "from PIL import Image\n",
    "from sklearn.metrics import accuracy_score\n",
    "from sklearn.metrics import roc_curve, auc\n",
    "import joblib\n",
    "import pickle as pk\n",
    "from sklearn.externals.joblib import dump, load"
   ]
  },
  {
   "cell_type": "markdown",
   "metadata": {},
   "source": [
    "###### Set the Path for where the Images and lables are stored"
   ]
  },
  {
   "cell_type": "code",
   "execution_count": 59,
   "metadata": {},
   "outputs": [],
   "source": [
    "#Set the Path where Images and Lables are stored\n",
    "path = \n",
    "\n",
    "#change directory to path variable\n",
    "os.chdir(path)\n",
    "\n",
    "#checking path and listing  files in directory \n",
    "#pwd\n",
    "#os.listdir() "
   ]
  },
  {
   "cell_type": "markdown",
   "metadata": {},
   "source": [
    "###### Import Label CSV and Process"
   ]
  },
  {
   "cell_type": "code",
   "execution_count": 64,
   "metadata": {},
   "outputs": [],
   "source": [
    "#labels = pd.read_csv(\"m.csv\")\n",
    "import pandas as pd\n",
    "labels = pd.read_csv(\"balanced.csv\")\n"
   ]
  },
  {
   "cell_type": "code",
   "execution_count": 65,
   "metadata": {},
   "outputs": [
    {
     "data": {
      "text/html": [
       "<div>\n",
       "<style scoped>\n",
       "    .dataframe tbody tr th:only-of-type {\n",
       "        vertical-align: middle;\n",
       "    }\n",
       "\n",
       "    .dataframe tbody tr th {\n",
       "        vertical-align: top;\n",
       "    }\n",
       "\n",
       "    .dataframe thead th {\n",
       "        text-align: right;\n",
       "    }\n",
       "</style>\n",
       "<table border=\"1\" class=\"dataframe\">\n",
       "  <thead>\n",
       "    <tr style=\"text-align: right;\">\n",
       "      <th></th>\n",
       "      <th>cancer</th>\n",
       "    </tr>\n",
       "    <tr>\n",
       "      <th>0</th>\n",
       "      <th></th>\n",
       "    </tr>\n",
       "  </thead>\n",
       "  <tbody>\n",
       "    <tr>\n",
       "      <th>ISIC_0033834</th>\n",
       "      <td>1</td>\n",
       "    </tr>\n",
       "    <tr>\n",
       "      <th>ISIC_0000039</th>\n",
       "      <td>0</td>\n",
       "    </tr>\n",
       "    <tr>\n",
       "      <th>ISIC_0000216</th>\n",
       "      <td>0</td>\n",
       "    </tr>\n",
       "    <tr>\n",
       "      <th>ISIC_0029072</th>\n",
       "      <td>0</td>\n",
       "    </tr>\n",
       "    <tr>\n",
       "      <th>ISIC_0034092</th>\n",
       "      <td>1</td>\n",
       "    </tr>\n",
       "  </tbody>\n",
       "</table>\n",
       "</div>"
      ],
      "text/plain": [
       "              cancer\n",
       "0                   \n",
       "ISIC_0033834       1\n",
       "ISIC_0000039       0\n",
       "ISIC_0000216       0\n",
       "ISIC_0029072       0\n",
       "ISIC_0034092       1"
      ]
     },
     "execution_count": 65,
     "metadata": {},
     "output_type": "execute_result"
    }
   ],
   "source": [
    "#Shuffeling the data to ensure randomness \n",
    "labels= labels.sample(frac=1)\n",
    "labels.set_index('0', inplace=True)\n",
    "labels.head()"
   ]
  },
  {
   "cell_type": "code",
   "execution_count": 66,
   "metadata": {},
   "outputs": [
    {
     "data": {
      "text/plain": [
       "(1534, 1)"
      ]
     },
     "execution_count": 66,
     "metadata": {},
     "output_type": "execute_result"
    }
   ],
   "source": [
    "#checking shape\n",
    "labels.shape"
   ]
  },
  {
   "cell_type": "markdown",
   "metadata": {},
   "source": [
    "###### Create X and y from Images and Labels "
   ]
  },
  {
   "cell_type": "code",
   "execution_count": 67,
   "metadata": {},
   "outputs": [],
   "source": [
    "#X and y\n",
    "\n",
    "''' we assign y from panda series in labels dataframe\n",
    "    and we assign X based on name of the file\n",
    "'''\n",
    "import skimage.io as io\n",
    "imgs = []    \n",
    "\n",
    "y = pd.Series(labels.cancer.values)\n",
    "\n",
    "#img_path = 'C:\\\\Users\\\\Rob Hess\\\\Desktop\\\\testset\\\\svm\\\\scaled_cnn\\\\'\n",
    "img_path = 'C:\\\\Users\\\\Rob Hess\\\\Desktop\\\\testset\\\\svm\\\\256_C_CNN\\\\'\n",
    "for img in labels.index:    \n",
    "    img = img + '.jpg'\n",
    "    imgs.append(io.imread(os.path.join(img_path, img))) \n"
   ]
  },
  {
   "cell_type": "code",
   "execution_count": 9,
   "metadata": {},
   "outputs": [
    {
     "name": "stdout",
     "output_type": "stream",
     "text": [
      "X Shape is : (1534, 256, 256, 3)\n",
      "y Shape is : (1534,)\n"
     ]
    }
   ],
   "source": [
    "#check the shpae of X y\n",
    "X =np.array(imgs)\n",
    "print(\"X Shape is :\", X.shape)\n",
    "print(\"y Shape is :\", y.shape)"
   ]
  },
  {
   "cell_type": "code",
   "execution_count": 10,
   "metadata": {},
   "outputs": [],
   "source": [
    "#Split the data into train and test \n",
    "X_train, X_test, y_train, y_test = train_test_split(X, y, stratify=y, test_size=0.3, random_state=43)\n"
   ]
  },
  {
   "cell_type": "code",
   "execution_count": 11,
   "metadata": {},
   "outputs": [
    {
     "name": "stdout",
     "output_type": "stream",
     "text": [
      "shape of train images is : (1073, 256, 256, 3)\n",
      "shape of test images is : (461, 256, 256, 3)\n",
      "shape of train labels is : (1073,)\n",
      "shape of test labeks is : (461,)\n"
     ]
    }
   ],
   "source": [
    "#print the shapes of training and test data \n",
    "print(\"shape of train images is :\", X_train.shape)\n",
    "print(\"shape of test images is :\", X_test.shape)\n",
    "print(\"shape of train labels is :\", y_train.shape)\n",
    "print(\"shape of test labeks is :\", y_test.shape)"
   ]
  },
  {
   "cell_type": "markdown",
   "metadata": {},
   "source": [
    "###### CNN parameter assignments "
   ]
  },
  {
   "cell_type": "code",
   "execution_count": null,
   "metadata": {},
   "outputs": [],
   "source": [
    "#Setting some varibales which will be used in CNN model\n",
    "nb_train_samples = X_train.shape[0]\n",
    "nb_validation_samples = X_test.shape[0]"
   ]
  },
  {
   "cell_type": "code",
   "execution_count": 13,
   "metadata": {},
   "outputs": [],
   "source": [
    "#Settinig Batch size and Epochs \n",
    "#found low batch size caused more error variance, 99 seems to be sweet spot\n",
    "batch_size = 99\n",
    "nb_epochs = 50\n",
    "input_shape = (256, 256, 3)"
   ]
  },
  {
   "cell_type": "code",
   "execution_count": 14,
   "metadata": {},
   "outputs": [
    {
     "name": "stdout",
     "output_type": "stream",
     "text": [
      "Model: \"sequential_1\"\n",
      "_________________________________________________________________\n",
      "Layer (type)                 Output Shape              Param #   \n",
      "=================================================================\n",
      "conv2d_1 (Conv2D)            (None, 254, 254, 32)      896       \n",
      "_________________________________________________________________\n",
      "max_pooling2d_1 (MaxPooling2 (None, 127, 127, 32)      0         \n",
      "_________________________________________________________________\n",
      "conv2d_2 (Conv2D)            (None, 125, 125, 64)      18496     \n",
      "_________________________________________________________________\n",
      "max_pooling2d_2 (MaxPooling2 (None, 62, 62, 64)        0         \n",
      "_________________________________________________________________\n",
      "conv2d_3 (Conv2D)            (None, 60, 60, 128)       73856     \n",
      "_________________________________________________________________\n",
      "max_pooling2d_3 (MaxPooling2 (None, 30, 30, 128)       0         \n",
      "_________________________________________________________________\n",
      "conv2d_4 (Conv2D)            (None, 28, 28, 256)       295168    \n",
      "_________________________________________________________________\n",
      "max_pooling2d_4 (MaxPooling2 (None, 14, 14, 256)       0         \n",
      "_________________________________________________________________\n",
      "flatten_1 (Flatten)          (None, 50176)             0         \n",
      "_________________________________________________________________\n",
      "dense_1 (Dense)              (None, 512)               25690624  \n",
      "_________________________________________________________________\n",
      "dropout_1 (Dropout)          (None, 512)               0         \n",
      "_________________________________________________________________\n",
      "dense_2 (Dense)              (None, 1)                 513       \n",
      "=================================================================\n",
      "Total params: 26,079,553\n",
      "Trainable params: 26,079,553\n",
      "Non-trainable params: 0\n",
      "_________________________________________________________________\n"
     ]
    }
   ],
   "source": [
    "#define Model and logging \n",
    "\n",
    "log_name = 'keras_model_training.log'\n",
    "model_name = 'keras_model.h5'\n",
    "    \n",
    "    \n",
    "model = Sequential()\n",
    "    \n",
    "model.add(Conv2D(32, (3, 3), input_shape=input_shape , activation=('relu')))\n",
    "model.add(MaxPooling2D(pool_size=(2, 2)))\n",
    "    \n",
    "model.add(Conv2D(64, (3, 3) , activation=('relu')))\n",
    "model.add(MaxPooling2D(pool_size=(2, 2)))\n",
    "\n",
    "model.add(Conv2D(128, (3, 3) , activation=('relu')))\n",
    "model.add(MaxPooling2D(pool_size=(2, 2)))\n",
    "\n",
    "model.add(Conv2D(256, (3, 3) , activation=('relu')))\n",
    "model.add(MaxPooling2D(pool_size=(2, 2)))\n",
    "\n",
    "\n",
    "model.add(Flatten())\n",
    "\n",
    "model.add(Dense(units = 512, activation = 'relu'))\n",
    "model.add(Dropout(0.5))\n",
    "model.add(Dense(units = 1, activation = 'sigmoid'))\n",
    "\n",
    "\n",
    "model.summary()"
   ]
  },
  {
   "cell_type": "code",
   "execution_count": 15,
   "metadata": {},
   "outputs": [],
   "source": [
    "#setting a different Learning rate found default  wasn't optimum for my data\n",
    "from keras.optimizers import Adam\n",
    "opt = Adam(lr=0.00001)\n",
    "model.compile(loss='binary_crossentropy',\n",
    "                  optimizer=opt,\n",
    "                  metrics=['accuracy'])"
   ]
  },
  {
   "cell_type": "code",
   "execution_count": 16,
   "metadata": {},
   "outputs": [],
   "source": [
    "#training generator settings \n",
    "train_datagen = ImageDataGenerator(\n",
    "        rescale=1. / 255,\n",
    "        shear_range=0.5,\n",
    "        zoom_range=0.4,\n",
    "        horizontal_flip=True,\n",
    "        vertical_flip=True)\n",
    "\n",
    "test_datagen = ImageDataGenerator(rescale=1./255)"
   ]
  },
  {
   "cell_type": "code",
   "execution_count": 17,
   "metadata": {},
   "outputs": [],
   "source": [
    "train_generator = train_datagen.flow(X_train, y_train, batch_size=batch_size)\n",
    "test_generator = test_datagen.flow(X_test, y_test, batch_size=batch_size, shuffle=True)"
   ]
  },
  {
   "cell_type": "code",
   "execution_count": 18,
   "metadata": {},
   "outputs": [],
   "source": [
    "#set saving of models based on best loss and acc\n",
    "best_model_val_acc = ModelCheckpoint('best_model_val_acc',monitor='val_accuracy',\n",
    "                                    mode = 'max', verbose=1, save_best_only=True, save_weights_only= True)\n",
    "best_model_val_loss = ModelCheckpoint('best_model_val_loss',monitor='val_loss',\n",
    "                                    mode = 'min', verbose=1, save_best_only=True, save_weights_only= True)"
   ]
  },
  {
   "cell_type": "code",
   "execution_count": 19,
   "metadata": {},
   "outputs": [],
   "source": [
    "# early stopping to prevent overfitting\n",
    "import keras\n",
    "early_stop = keras.callbacks.EarlyStopping(monitor='val_accuracy',\n",
    "                                               min_delta=0,\n",
    "                                               patience=4,\n",
    "                                               verbose=0,\n",
    "                                               mode='auto',\n",
    "                                               baseline=None,\n",
    "                                               restore_best_weights=True\n",
    "                                               )"
   ]
  },
  {
   "cell_type": "code",
   "execution_count": 20,
   "metadata": {},
   "outputs": [],
   "source": [
    "from keras.callbacks import EarlyStopping, ModelCheckpoint, CSVLogger\n",
    "# create csv with training data log\n",
    "csv_logger = CSVLogger(log_name)\n"
   ]
  },
  {
   "cell_type": "code",
   "execution_count": 21,
   "metadata": {},
   "outputs": [
    {
     "name": "stdout",
     "output_type": "stream",
     "text": [
      "Epoch 1/50\n",
      "10/10 [==============================] - 11s 1s/step - loss: 0.6900 - accuracy: 0.5144 - val_loss: 0.6899 - val_accuracy: 0.5429\n",
      "\n",
      "Epoch 00001: val_accuracy improved from -inf to 0.54293, saving model to best_model_val_acc\n",
      "\n",
      "Epoch 00001: val_loss improved from inf to 0.68986, saving model to best_model_val_loss\n",
      "Epoch 2/50\n",
      "10/10 [==============================] - 11s 1s/step - loss: 0.6843 - accuracy: 0.5287 - val_loss: 0.6832 - val_accuracy: 0.5000\n",
      "\n",
      "Epoch 00002: val_accuracy did not improve from 0.54293\n",
      "\n",
      "Epoch 00002: val_loss improved from 0.68986 to 0.68321, saving model to best_model_val_loss\n",
      "Epoch 3/50\n",
      "10/10 [==============================] - 10s 1s/step - loss: 0.6781 - accuracy: 0.6088 - val_loss: 0.6660 - val_accuracy: 0.5718\n",
      "\n",
      "Epoch 00003: val_accuracy improved from 0.54293 to 0.57182, saving model to best_model_val_acc\n",
      "\n",
      "Epoch 00003: val_loss improved from 0.68321 to 0.66605, saving model to best_model_val_loss\n",
      "Epoch 4/50\n",
      "10/10 [==============================] - 11s 1s/step - loss: 0.6741 - accuracy: 0.6037 - val_loss: 0.6655 - val_accuracy: 0.7569\n",
      "\n",
      "Epoch 00004: val_accuracy improved from 0.57182 to 0.75691, saving model to best_model_val_acc\n",
      "\n",
      "Epoch 00004: val_loss improved from 0.66605 to 0.66549, saving model to best_model_val_loss\n",
      "Epoch 5/50\n",
      "10/10 [==============================] - 11s 1s/step - loss: 0.6631 - accuracy: 0.6335 - val_loss: 0.6746 - val_accuracy: 0.5110\n",
      "\n",
      "Epoch 00005: val_accuracy did not improve from 0.75691\n",
      "\n",
      "Epoch 00005: val_loss did not improve from 0.66549\n",
      "Epoch 6/50\n",
      "10/10 [==============================] - 11s 1s/step - loss: 0.6644 - accuracy: 0.5986 - val_loss: 0.6524 - val_accuracy: 0.6843\n",
      "\n",
      "Epoch 00006: val_accuracy did not improve from 0.75691\n",
      "\n",
      "Epoch 00006: val_loss improved from 0.66549 to 0.65238, saving model to best_model_val_loss\n",
      "Epoch 7/50\n",
      "10/10 [==============================] - 11s 1s/step - loss: 0.6468 - accuracy: 0.6717 - val_loss: 0.6111 - val_accuracy: 0.6492\n",
      "\n",
      "Epoch 00007: val_accuracy did not improve from 0.75691\n",
      "\n",
      "Epoch 00007: val_loss improved from 0.65238 to 0.61114, saving model to best_model_val_loss\n",
      "Epoch 8/50\n",
      "10/10 [==============================] - 10s 1s/step - loss: 0.6408 - accuracy: 0.6566 - val_loss: 0.6250 - val_accuracy: 0.7597\n",
      "\n",
      "Epoch 00008: val_accuracy improved from 0.75691 to 0.75967, saving model to best_model_val_acc\n",
      "\n",
      "Epoch 00008: val_loss did not improve from 0.61114\n",
      "Epoch 9/50\n",
      "10/10 [==============================] - 11s 1s/step - loss: 0.6361 - accuracy: 0.6808 - val_loss: 0.6108 - val_accuracy: 0.6961\n",
      "\n",
      "Epoch 00009: val_accuracy did not improve from 0.75967\n",
      "\n",
      "Epoch 00009: val_loss improved from 0.61114 to 0.61084, saving model to best_model_val_loss\n",
      "Epoch 10/50\n",
      "10/10 [==============================] - 11s 1s/step - loss: 0.6282 - accuracy: 0.6571 - val_loss: 0.6492 - val_accuracy: 0.7320\n",
      "\n",
      "Epoch 00010: val_accuracy did not improve from 0.75967\n",
      "\n",
      "Epoch 00010: val_loss did not improve from 0.61084\n",
      "Epoch 11/50\n",
      "10/10 [==============================] - 11s 1s/step - loss: 0.6204 - accuracy: 0.6951 - val_loss: 0.5800 - val_accuracy: 0.7702\n",
      "\n",
      "Epoch 00011: val_accuracy improved from 0.75967 to 0.77020, saving model to best_model_val_acc\n",
      "\n",
      "Epoch 00011: val_loss improved from 0.61084 to 0.58000, saving model to best_model_val_loss\n",
      "Epoch 12/50\n",
      "10/10 [==============================] - 11s 1s/step - loss: 0.6045 - accuracy: 0.7238 - val_loss: 0.5842 - val_accuracy: 0.7597\n",
      "\n",
      "Epoch 00012: val_accuracy did not improve from 0.77020\n",
      "\n",
      "Epoch 00012: val_loss did not improve from 0.58000\n",
      "Epoch 13/50\n",
      "10/10 [==============================] - 11s 1s/step - loss: 0.5986 - accuracy: 0.7177 - val_loss: 0.5624 - val_accuracy: 0.8066\n",
      "\n",
      "Epoch 00013: val_accuracy improved from 0.77020 to 0.80663, saving model to best_model_val_acc\n",
      "\n",
      "Epoch 00013: val_loss improved from 0.58000 to 0.56235, saving model to best_model_val_loss\n",
      "Epoch 14/50\n",
      "10/10 [==============================] - 10s 1s/step - loss: 0.5799 - accuracy: 0.7556 - val_loss: 0.5313 - val_accuracy: 0.7818\n",
      "\n",
      "Epoch 00014: val_accuracy did not improve from 0.80663\n",
      "\n",
      "Epoch 00014: val_loss improved from 0.56235 to 0.53129, saving model to best_model_val_loss\n",
      "Epoch 15/50\n",
      "10/10 [==============================] - 10s 1s/step - loss: 0.6054 - accuracy: 0.7002 - val_loss: 0.5301 - val_accuracy: 0.7707\n",
      "\n",
      "Epoch 00015: val_accuracy did not improve from 0.80663\n",
      "\n",
      "Epoch 00015: val_loss improved from 0.53129 to 0.53005, saving model to best_model_val_loss\n",
      "Epoch 16/50\n",
      "10/10 [==============================] - 11s 1s/step - loss: 0.5572 - accuracy: 0.7577 - val_loss: 0.4956 - val_accuracy: 0.7904\n",
      "\n",
      "Epoch 00016: val_accuracy did not improve from 0.80663\n",
      "\n",
      "Epoch 00016: val_loss improved from 0.53005 to 0.49555, saving model to best_model_val_loss\n",
      "Epoch 17/50\n",
      "10/10 [==============================] - 11s 1s/step - loss: 0.5611 - accuracy: 0.7525 - val_loss: 0.5134 - val_accuracy: 0.8122\n",
      "\n",
      "Epoch 00017: val_accuracy improved from 0.80663 to 0.81215, saving model to best_model_val_acc\n",
      "\n",
      "Epoch 00017: val_loss did not improve from 0.49555\n",
      "Epoch 18/50\n",
      "10/10 [==============================] - 10s 1s/step - loss: 0.5491 - accuracy: 0.7547 - val_loss: 0.4842 - val_accuracy: 0.8343\n",
      "\n",
      "Epoch 00018: val_accuracy improved from 0.81215 to 0.83425, saving model to best_model_val_acc\n",
      "\n",
      "Epoch 00018: val_loss improved from 0.49555 to 0.48425, saving model to best_model_val_loss\n",
      "Epoch 19/50\n",
      "10/10 [==============================] - 11s 1s/step - loss: 0.5602 - accuracy: 0.7535 - val_loss: 0.4937 - val_accuracy: 0.8066\n",
      "\n",
      "Epoch 00019: val_accuracy did not improve from 0.83425\n",
      "\n",
      "Epoch 00019: val_loss did not improve from 0.48425\n",
      "Epoch 20/50\n",
      "10/10 [==============================] - 11s 1s/step - loss: 0.5389 - accuracy: 0.7762 - val_loss: 0.4556 - val_accuracy: 0.8177\n",
      "\n",
      "Epoch 00020: val_accuracy did not improve from 0.83425\n",
      "\n",
      "Epoch 00020: val_loss improved from 0.48425 to 0.45565, saving model to best_model_val_loss\n",
      "Epoch 21/50\n",
      "10/10 [==============================] - 11s 1s/step - loss: 0.5244 - accuracy: 0.7902 - val_loss: 0.4504 - val_accuracy: 0.8333\n",
      "\n",
      "Epoch 00021: val_accuracy did not improve from 0.83425\n",
      "\n",
      "Epoch 00021: val_loss improved from 0.45565 to 0.45037, saving model to best_model_val_loss\n",
      "Epoch 22/50\n",
      "10/10 [==============================] - 11s 1s/step - loss: 0.5323 - accuracy: 0.7677 - val_loss: 0.4904 - val_accuracy: 0.8425\n",
      "\n",
      "Epoch 00022: val_accuracy improved from 0.83425 to 0.84254, saving model to best_model_val_acc\n",
      "\n",
      "Epoch 00022: val_loss did not improve from 0.45037\n",
      "Epoch 23/50\n",
      "10/10 [==============================] - 11s 1s/step - loss: 0.5198 - accuracy: 0.7869 - val_loss: 0.5266 - val_accuracy: 0.7790\n",
      "\n",
      "Epoch 00023: val_accuracy did not improve from 0.84254\n",
      "\n",
      "Epoch 00023: val_loss did not improve from 0.45037\n",
      "Epoch 24/50\n",
      "10/10 [==============================] - 10s 1s/step - loss: 0.5274 - accuracy: 0.7704 - val_loss: 0.4679 - val_accuracy: 0.8260\n",
      "\n",
      "Epoch 00024: val_accuracy did not improve from 0.84254\n",
      "\n",
      "Epoch 00024: val_loss did not improve from 0.45037\n",
      "Epoch 25/50\n",
      "10/10 [==============================] - 11s 1s/step - loss: 0.5016 - accuracy: 0.7838 - val_loss: 0.4645 - val_accuracy: 0.8315\n",
      "\n",
      "Epoch 00025: val_accuracy did not improve from 0.84254\n",
      "\n",
      "Epoch 00025: val_loss did not improve from 0.45037\n",
      "Epoch 26/50\n",
      "10/10 [==============================] - 11s 1s/step - loss: 0.5208 - accuracy: 0.7797 - val_loss: 0.4094 - val_accuracy: 0.8308\n",
      "\n",
      "Epoch 00026: val_accuracy did not improve from 0.84254\n",
      "\n",
      "Epoch 00026: val_loss improved from 0.45037 to 0.40944, saving model to best_model_val_loss\n",
      "Epoch 27/50\n",
      "10/10 [==============================] - 11s 1s/step - loss: 0.5225 - accuracy: 0.7618 - val_loss: 0.4047 - val_accuracy: 0.8425\n",
      "\n",
      "Epoch 00027: val_accuracy did not improve from 0.84254\n",
      "\n",
      "Epoch 00027: val_loss improved from 0.40944 to 0.40468, saving model to best_model_val_loss\n",
      "Epoch 28/50\n",
      "10/10 [==============================] - 11s 1s/step - loss: 0.5041 - accuracy: 0.7859 - val_loss: 0.4462 - val_accuracy: 0.8122\n",
      "\n",
      "Epoch 00028: val_accuracy did not improve from 0.84254\n",
      "\n",
      "Epoch 00028: val_loss did not improve from 0.40468\n",
      "Epoch 29/50\n",
      "10/10 [==============================] - 11s 1s/step - loss: 0.5214 - accuracy: 0.7669 - val_loss: 0.4373 - val_accuracy: 0.8508\n",
      "\n",
      "Epoch 00029: val_accuracy improved from 0.84254 to 0.85083, saving model to best_model_val_acc\n"
     ]
    },
    {
     "name": "stdout",
     "output_type": "stream",
     "text": [
      "\n",
      "Epoch 00029: val_loss did not improve from 0.40468\n",
      "Epoch 30/50\n",
      "10/10 [==============================] - 11s 1s/step - loss: 0.4883 - accuracy: 0.7912 - val_loss: 0.3824 - val_accuracy: 0.8536\n",
      "\n",
      "Epoch 00030: val_accuracy improved from 0.85083 to 0.85359, saving model to best_model_val_acc\n",
      "\n",
      "Epoch 00030: val_loss improved from 0.40468 to 0.38241, saving model to best_model_val_loss\n",
      "Epoch 31/50\n",
      "10/10 [==============================] - 11s 1s/step - loss: 0.5106 - accuracy: 0.7788 - val_loss: 0.3928 - val_accuracy: 0.8460\n",
      "\n",
      "Epoch 00031: val_accuracy did not improve from 0.85359\n",
      "\n",
      "Epoch 00031: val_loss did not improve from 0.38241\n",
      "Epoch 32/50\n",
      "10/10 [==============================] - 12s 1s/step - loss: 0.5083 - accuracy: 0.7782 - val_loss: 0.4041 - val_accuracy: 0.8398\n",
      "\n",
      "Epoch 00032: val_accuracy did not improve from 0.85359\n",
      "\n",
      "Epoch 00032: val_loss did not improve from 0.38241\n",
      "Epoch 33/50\n",
      "10/10 [==============================] - 11s 1s/step - loss: 0.4990 - accuracy: 0.7875 - val_loss: 0.3980 - val_accuracy: 0.8260\n",
      "\n",
      "Epoch 00033: val_accuracy did not improve from 0.85359\n",
      "\n",
      "Epoch 00033: val_loss did not improve from 0.38241\n",
      "Epoch 34/50\n",
      "10/10 [==============================] - 11s 1s/step - loss: 0.5016 - accuracy: 0.7875 - val_loss: 0.4533 - val_accuracy: 0.8398\n",
      "\n",
      "Epoch 00034: val_accuracy did not improve from 0.85359\n",
      "\n",
      "Epoch 00034: val_loss did not improve from 0.38241\n",
      "Epoch 35/50\n",
      "10/10 [==============================] - 11s 1s/step - loss: 0.4844 - accuracy: 0.7721 - val_loss: 0.3968 - val_accuracy: 0.8481\n",
      "\n",
      "Epoch 00035: val_accuracy did not improve from 0.85359\n",
      "\n",
      "Epoch 00035: val_loss did not improve from 0.38241\n",
      "Epoch 36/50\n",
      "10/10 [==============================] - 11s 1s/step - loss: 0.4939 - accuracy: 0.7895 - val_loss: 0.4000 - val_accuracy: 0.8485\n",
      "\n",
      "Epoch 00036: val_accuracy did not improve from 0.85359\n",
      "\n",
      "Epoch 00036: val_loss did not improve from 0.38241\n",
      "Epoch 37/50\n",
      "10/10 [==============================] - 11s 1s/step - loss: 0.5138 - accuracy: 0.7782 - val_loss: 0.4040 - val_accuracy: 0.8564\n",
      "\n",
      "Epoch 00037: val_accuracy improved from 0.85359 to 0.85635, saving model to best_model_val_acc\n",
      "\n",
      "Epoch 00037: val_loss did not improve from 0.38241\n",
      "Epoch 38/50\n",
      "10/10 [==============================] - 11s 1s/step - loss: 0.4766 - accuracy: 0.8039 - val_loss: 0.4810 - val_accuracy: 0.8177\n",
      "\n",
      "Epoch 00038: val_accuracy did not improve from 0.85635\n",
      "\n",
      "Epoch 00038: val_loss did not improve from 0.38241\n",
      "Epoch 39/50\n",
      "10/10 [==============================] - 11s 1s/step - loss: 0.4883 - accuracy: 0.7916 - val_loss: 0.4207 - val_accuracy: 0.8619\n",
      "\n",
      "Epoch 00039: val_accuracy improved from 0.85635 to 0.86188, saving model to best_model_val_acc\n",
      "\n",
      "Epoch 00039: val_loss did not improve from 0.38241\n",
      "Epoch 40/50\n",
      "10/10 [==============================] - 11s 1s/step - loss: 0.4739 - accuracy: 0.7977 - val_loss: 0.4935 - val_accuracy: 0.8315\n",
      "\n",
      "Epoch 00040: val_accuracy did not improve from 0.86188\n",
      "\n",
      "Epoch 00040: val_loss did not improve from 0.38241\n",
      "Epoch 41/50\n",
      "10/10 [==============================] - 11s 1s/step - loss: 0.4868 - accuracy: 0.7895 - val_loss: 0.3906 - val_accuracy: 0.8460\n",
      "\n",
      "Epoch 00041: val_accuracy did not improve from 0.86188\n",
      "\n",
      "Epoch 00041: val_loss did not improve from 0.38241\n",
      "Epoch 42/50\n",
      "10/10 [==============================] - 11s 1s/step - loss: 0.5027 - accuracy: 0.7788 - val_loss: 0.4102 - val_accuracy: 0.8674\n",
      "\n",
      "Epoch 00042: val_accuracy improved from 0.86188 to 0.86740, saving model to best_model_val_acc\n",
      "\n",
      "Epoch 00042: val_loss did not improve from 0.38241\n",
      "Epoch 43/50\n",
      "10/10 [==============================] - 11s 1s/step - loss: 0.4926 - accuracy: 0.7850 - val_loss: 0.4116 - val_accuracy: 0.8315\n",
      "\n",
      "Epoch 00043: val_accuracy did not improve from 0.86740\n",
      "\n",
      "Epoch 00043: val_loss did not improve from 0.38241\n",
      "Epoch 44/50\n",
      "10/10 [==============================] - 11s 1s/step - loss: 0.4703 - accuracy: 0.7929 - val_loss: 0.4586 - val_accuracy: 0.8398\n",
      "\n",
      "Epoch 00044: val_accuracy did not improve from 0.86740\n",
      "\n",
      "Epoch 00044: val_loss did not improve from 0.38241\n",
      "Epoch 45/50\n",
      "10/10 [==============================] - 11s 1s/step - loss: 0.4690 - accuracy: 0.8080 - val_loss: 0.3699 - val_accuracy: 0.8702\n",
      "\n",
      "Epoch 00045: val_accuracy improved from 0.86740 to 0.87017, saving model to best_model_val_acc\n",
      "\n",
      "Epoch 00045: val_loss improved from 0.38241 to 0.36990, saving model to best_model_val_loss\n",
      "Epoch 46/50\n",
      "10/10 [==============================] - 10s 1s/step - loss: 0.4791 - accuracy: 0.7947 - val_loss: 0.3605 - val_accuracy: 0.8535\n",
      "\n",
      "Epoch 00046: val_accuracy did not improve from 0.87017\n",
      "\n",
      "Epoch 00046: val_loss improved from 0.36990 to 0.36053, saving model to best_model_val_loss\n",
      "Epoch 47/50\n",
      "10/10 [==============================] - 10s 1s/step - loss: 0.4923 - accuracy: 0.7772 - val_loss: 0.3738 - val_accuracy: 0.8536\n",
      "\n",
      "Epoch 00047: val_accuracy did not improve from 0.87017\n",
      "\n",
      "Epoch 00047: val_loss did not improve from 0.36053\n",
      "Epoch 48/50\n",
      "10/10 [==============================] - 10s 1s/step - loss: 0.4563 - accuracy: 0.8090 - val_loss: 0.4196 - val_accuracy: 0.8867\n",
      "\n",
      "Epoch 00048: val_accuracy improved from 0.87017 to 0.88674, saving model to best_model_val_acc\n",
      "\n",
      "Epoch 00048: val_loss did not improve from 0.36053\n",
      "Epoch 49/50\n",
      "10/10 [==============================] - 10s 1s/step - loss: 0.4591 - accuracy: 0.8142 - val_loss: 0.4659 - val_accuracy: 0.8315\n",
      "\n",
      "Epoch 00049: val_accuracy did not improve from 0.88674\n",
      "\n",
      "Epoch 00049: val_loss did not improve from 0.36053\n",
      "Epoch 50/50\n",
      "10/10 [==============================] - 11s 1s/step - loss: 0.4756 - accuracy: 0.7939 - val_loss: 0.3689 - val_accuracy: 0.8785\n",
      "\n",
      "Epoch 00050: val_accuracy did not improve from 0.88674\n",
      "\n",
      "Epoch 00050: val_loss did not improve from 0.36053\n"
     ]
    }
   ],
   "source": [
    "#fit model\n",
    "history = model.fit_generator(\n",
    "        train_generator,\n",
    "        steps_per_epoch=nb_train_samples // batch_size,\n",
    "        epochs=nb_epochs,\n",
    "        shuffle=True,\n",
    "        validation_data=test_generator,\n",
    "        validation_steps=nb_validation_samples // batch_size,\n",
    "        callbacks=[csv_logger, best_model_val_acc, best_model_val_loss]\n",
    "    )\n",
    "\n"
   ]
  },
  {
   "cell_type": "code",
   "execution_count": 29,
   "metadata": {},
   "outputs": [
    {
     "data": {
      "text/plain": [
       "12"
      ]
     },
     "execution_count": 29,
     "metadata": {},
     "output_type": "execute_result"
    }
   ],
   "source": [
    "#checking the layer numbers\n",
    "len(model.layers)"
   ]
  },
  {
   "cell_type": "code",
   "execution_count": 43,
   "metadata": {},
   "outputs": [
    {
     "name": "stdout",
     "output_type": "stream",
     "text": [
      "461/461 [==============================] - 1s 2ms/step\n",
      "Model Test accuracy: 86.77%\n",
      "1073/1073 [==============================] - 2s 1ms/step\n",
      "Model Train accuracy: 82.48%\n"
     ]
    }
   ],
   "source": [
    "#checking result\n",
    "loss, acc = model.evaluate(X_test, y_test)\n",
    "print(\"Model Test accuracy: {:5.2f}%\".format(100*acc))\n",
    "\n",
    "loss, acc = model.evaluate(X_train, y_train)\n",
    "print(\"Model Train accuracy: {:5.2f}%\".format(100*acc))"
   ]
  },
  {
   "cell_type": "code",
   "execution_count": 34,
   "metadata": {},
   "outputs": [],
   "source": [
    "#Loading and saving model weights\n",
    "# save model\n",
    "model.save('robert5_lr00001_new')\n",
    "#model.load_weights('robert5_lr0001')"
   ]
  },
  {
   "cell_type": "code",
   "execution_count": 44,
   "metadata": {},
   "outputs": [
    {
     "data": {
      "image/png": "[encoded data removed]",
      "text/plain": [
       "<Figure size 432x288 with 1 Axes>"
      ]
     },
     "metadata": {
      "needs_background": "light"
     },
     "output_type": "display_data"
    },
    {
     "data": {
      "image/png": "[encoded data removed]",
      "text/plain": [
       "<Figure size 432x288 with 1 Axes>"
      ]
     },
     "metadata": {
      "needs_background": "light"
     },
     "output_type": "display_data"
    }
   ],
   "source": [
    "#lets plot\n",
    "acc = history.history['accuracy']\n",
    "val_acc= history.history['val_accuracy']\n",
    "loss = history.history['loss']\n",
    "val_loss =history.history['val_loss']\n",
    "epochs = range(1, len(acc)+1)\n",
    "\n",
    "#train and test (valdication) accuracy\n",
    "plt.plot(epochs, acc, 'b', label=\"Training accuracy\")\n",
    "plt.plot(epochs, val_acc, 'r',label='validation accuracy')\n",
    "plt.title('Training and Validcation accuracy')\n",
    "plt.legend()\n",
    "\n",
    "plt.figure()\n",
    "#train and test loss\n",
    "plt.plot(epochs, loss, 'b', label='Training loss')\n",
    "plt.plot(epochs, val_loss, 'r', label='Validation loss')\n",
    "plt.title('Training and Validation loss')\n",
    "plt.legend()\n",
    "plt.show()"
   ]
  },
  {
   "cell_type": "code",
   "execution_count": 36,
   "metadata": {},
   "outputs": [],
   "source": [
    "# predict probabilities for test set\n",
    "yhat_probs = model.predict(X_test, verbose=0)\n",
    "yhat_train_probs=model.predict(X_train, verbose=0)\n",
    "# predict crisp classes for test set\n",
    "yhat_classes = model.predict_classes(X_test, verbose=0)\n",
    "yhat_train_classes= model.predict_classes(X_train, verbose=0)\n",
    "# reduce to 1d array\n",
    "yhat_probs = yhat_probs[:, 0]\n",
    "yhat_classes = yhat_classes[:, 0]"
   ]
  },
  {
   "cell_type": "code",
   "execution_count": 37,
   "metadata": {},
   "outputs": [
    {
     "name": "stdout",
     "output_type": "stream",
     "text": [
      "Accuracy: 0.867679\n",
      "Precision: 0.924324\n",
      "Recall: 0.784404\n",
      "F1 score: 0.848635\n",
      "ROC AUC: 0.872683\n",
      "[[229  14]\n",
      " [ 47 171]]\n"
     ]
    }
   ],
   "source": [
    "#mertics\n",
    "from sklearn.metrics import accuracy_score\n",
    "from sklearn.metrics import precision_score\n",
    "from sklearn.metrics import recall_score\n",
    "from sklearn.metrics import f1_score\n",
    "from sklearn.metrics import roc_auc_score\n",
    "from sklearn.metrics import confusion_matrix\n",
    "# accuracy: (tp + tn) / (p + n)\n",
    "accuracy = accuracy_score(y_test, yhat_classes)\n",
    "print('Accuracy: %f' % accuracy)\n",
    "# precision tp / (tp + fp)\n",
    "precision = precision_score(y_test, yhat_classes)\n",
    "print('Precision: %f' % precision)\n",
    "# recall: tp / (tp + fn)\n",
    "recall = recall_score(y_test, yhat_classes)\n",
    "print('Recall: %f' % recall)\n",
    "# f1: 2 tp / (2 tp + fp + fn)\n",
    "f1 = f1_score(y_test, yhat_classes)\n",
    "print('F1 score: %f' % f1)\n",
    "# ROC AUC\n",
    "auc = roc_auc_score(y_test, yhat_probs)\n",
    "print('ROC AUC: %f' % auc)\n",
    "# confusion matrix\n",
    "matrix = confusion_matrix(y_test, yhat_classes)\n",
    "print(matrix)"
   ]
  },
  {
   "cell_type": "code",
   "execution_count": 38,
   "metadata": {},
   "outputs": [
    {
     "name": "stdout",
     "output_type": "stream",
     "text": [
      "Sensitivity :  0.9423868312757202\n",
      "Specificity :  0.7844036697247706\n"
     ]
    }
   ],
   "source": [
    "sensitivity1 = matrix[0,0]/(matrix[0,0]+matrix[0,1])\n",
    "print('Sensitivity : ', sensitivity1 )\n",
    "\n",
    "specificity1 = matrix[1,1]/(matrix[1,0]+matrix[1,1])\n",
    "print('Specificity : ', specificity1)"
   ]
  },
  {
   "cell_type": "code",
   "execution_count": 39,
   "metadata": {},
   "outputs": [],
   "source": [
    "#using a confusion metrics fuctions to look at our results\n",
    "#reference https://github.com/DTrimarchi10/confusion_matrix\n",
    "def make_confusion_matrix(cf,\n",
    "                          group_names=None,\n",
    "                          categories='auto',\n",
    "                          count=True,\n",
    "                          percent=True,\n",
    "                          cbar=True,\n",
    "                          xyticks=True,\n",
    "                          xyplotlabels=True,\n",
    "                          sum_stats=True,\n",
    "                          figsize=None,\n",
    "                          cmap='Blues',\n",
    "                          title=None):\n",
    "\n",
    "    # CODE TO GENERATE TEXT INSIDE EACH SQUARE\n",
    "    blanks = ['' for i in range(cf.size)]\n",
    "\n",
    "    if group_names and len(group_names)==cf.size:\n",
    "        group_labels = [\"{}\\n\".format(value) for value in group_names]\n",
    "    else:\n",
    "        group_labels = blanks\n",
    "\n",
    "    if count:\n",
    "        group_counts = [\"{0:0.0f}\\n\".format(value) for value in cf.flatten()]\n",
    "    else:\n",
    "        group_counts = blanks\n",
    "\n",
    "    if percent:\n",
    "        group_percentages = [\"{0:.2%}\".format(value) for value in cf.flatten()/np.sum(cf)]\n",
    "    else:\n",
    "        group_percentages = blanks\n",
    "\n",
    "    box_labels = [f\"{v1}{v2}{v3}\".strip() for v1, v2, v3 in zip(group_labels,group_counts,group_percentages)]\n",
    "    box_labels = np.asarray(box_labels).reshape(cf.shape[0],cf.shape[1])\n",
    "\n",
    "\n",
    "    # CODE TO GENERATE SUMMARY STATISTICS & TEXT FOR SUMMARY STATS\n",
    "    if sum_stats:\n",
    "        #Accuracy is sum of diagonal divided by total observations\n",
    "        accuracy  = np.trace(cf) / float(np.sum(cf))\n",
    "\n",
    "        #if it is a binary confusion matrix, show some more stats\n",
    "        if len(cf)==2:\n",
    "            #Metrics for Binary Confusion Matrices\n",
    "            precision = cf[1,1] / sum(cf[:,1])\n",
    "            recall    = cf[1,1] / sum(cf[1,:])\n",
    "            f1_score  = 2*precision*recall / (precision + recall)\n",
    "            stats_text = \"\\n\\nAccuracy={:0.3f}\\nPrecision={:0.3f}\\nRecall={:0.3f}\\nF1 Score={:0.3f}\".format(\n",
    "                accuracy,precision,recall,f1_score)\n",
    "        else:\n",
    "            stats_text = \"\\n\\nAccuracy={:0.3f}\".format(accuracy)\n",
    "    else:\n",
    "        stats_text = \"\"\n",
    "\n",
    "\n",
    "    # SET FIGURE PARAMETERS ACCORDING TO OTHER ARGUMENTS\n",
    "    if figsize==None:\n",
    "        #Get default figure size if not set\n",
    "        figsize = plt.rcParams.get('figure.figsize')\n",
    "\n",
    "    if xyticks==False:\n",
    "        #Do not show categories if xyticks is False\n",
    "        categories=False\n",
    "\n",
    "\n",
    "    # MAKE THE HEATMAP VISUALIZATION\n",
    "    plt.figure(figsize=figsize)\n",
    "    sns.heatmap(cf,annot=box_labels,fmt=\"\",cmap=cmap,cbar=cbar,xticklabels=categories,yticklabels=categories)\n",
    "\n",
    "    if xyplotlabels:\n",
    "        plt.ylabel('True label')\n",
    "        plt.xlabel('Predicted label' + stats_text)\n",
    "    else:\n",
    "        plt.xlabel(stats_text)\n",
    "    \n",
    "    if title:\n",
    "        plt.title(title)"
   ]
  },
  {
   "cell_type": "code",
   "execution_count": 42,
   "metadata": {},
   "outputs": [
    {
     "data": {
      "image/png": "[encoded data removed]",
      "text/plain": [
       "<Figure size 432x288 with 2 Axes>"
      ]
     },
     "metadata": {
      "needs_background": "light"
     },
     "output_type": "display_data"
    }
   ],
   "source": [
    "import seaborn as sns\n",
    "#check confusion matrix for test data\n",
    "\n",
    "cf_matrix_test=confusion_matrix(y_test, yhat_classes)\n",
    "# print(confusion_matrix(y_test, y_pred))\n",
    "# print(f1_score(y_test, y_pred, average='micro')) \n",
    "labels = ['True Neg','False Pos','False Neg','True Pos']\n",
    "categories = ['Zero', 'One']\n",
    "\n",
    "make_confusion_matrix(matrix, \n",
    "                      group_names=labels,\n",
    "                      categories=categories, \n",
    "                      cmap='binary', title='Test Dataset')"
   ]
  },
  {
   "cell_type": "code",
   "execution_count": null,
   "metadata": {},
   "outputs": [],
   "source": []
  }
 ],
 "metadata": {
  "kernelspec": {
   "display_name": "Python 3.7 (tensorflow)",
   "language": "python",
   "name": "tensorflow"
  },
  "language_info": {
   "codemirror_mode": {
    "name": "ipython",
    "version": 3
   },
   "file_extension": ".py",
   "mimetype": "text/x-python",
   "name": "python",
   "nbconvert_exporter": "python",
   "pygments_lexer": "ipython3",
   "version": "3.7.7"
  }
 },
 "nbformat": 4,
 "nbformat_minor": 4
}
