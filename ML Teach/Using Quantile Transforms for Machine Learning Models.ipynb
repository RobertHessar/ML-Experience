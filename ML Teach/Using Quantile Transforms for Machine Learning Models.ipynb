{
 "cells": [
  {
   "cell_type": "markdown",
   "metadata": {},
   "source": [
    "<h1> Using Quantile Transformation </h1>"
   ]
  },
  {
   "cell_type": "markdown",
   "metadata": {},
   "source": [
    "<p> Many Machine Learning Algorithms perform better when input/output variables have a standard distribution such as Normal (Gaussian) or uniform. </p>\n",
    "<p> Some algorithms, like linear regression and logistic regression, explicitly assume the real-valued variables have a Gaussian distribution. Other nonlinear algorithms may not have this assumption, yet often perform better when variables have a Gaussian distribution.</p>\n",
    "<p>Some input variables may have a highly skewed distribution, such as an exponential distribution where the most common observations are bunched together. Some input variables may have outliers that cause the distribution to be highly spread.</p>\n",
    "\n",
    "<p>https://scikit-learn.org/stable/modules/generated/sklearn.preprocessing.QuantileTransformer.html</p>"
   ]
  },
  {
   "cell_type": "markdown",
   "metadata": {},
   "source": [
    "<h1> Quantile Transforms </h1>"
   ]
  },
  {
   "cell_type": "markdown",
   "metadata": {},
   "source": [
    "<p>A quantile transform will map a variable’s probability distribution to another probability distribution.</p>"
   ]
  },
  {
   "cell_type": "code",
   "execution_count": 35,
   "metadata": {},
   "outputs": [
    {
     "data": {
      "image/png": "[encoded data removed]",
      "text/plain": [
       "<Figure size 432x288 with 1 Axes>"
      ]
     },
     "metadata": {
      "needs_background": "light"
     },
     "output_type": "display_data"
    },
    {
     "name": "stdout",
     "output_type": "stream",
     "text": [
      "(1000,)\n",
      "(1000, 1)\n"
     ]
    },
    {
     "data": {
      "image/png": "[encoded data removed]",
      "text/plain": [
       "<Figure size 432x288 with 1 Axes>"
      ]
     },
     "metadata": {
      "needs_background": "light"
     },
     "output_type": "display_data"
    }
   ],
   "source": [
    "# demonstration of the quantile transform\n",
    "from numpy import exp\n",
    "from numpy.random import randn\n",
    "from sklearn.preprocessing import QuantileTransformer\n",
    "from matplotlib import pyplot\n",
    "\n",
    "# generate gaussian data sample\n",
    "data = randn(1000)\n",
    "\n",
    "# add a skew to the data distribution\n",
    "data = exp(data)\n",
    "\n",
    "# histogram of the raw data with a skew\n",
    "pyplot.hist(data, bins=25)\n",
    "pyplot.title('exp distribution')\n",
    "pyplot.show()\n",
    "print(data.shape)\n",
    "\n",
    "# reshape data to have rows and columns\n",
    "data = data.reshape((len(data),1))\n",
    "print(data.shape)\n",
    "# quantile transform the raw data\n",
    "quantile = QuantileTransformer(output_distribution='normal')\n",
    "data_trans = quantile.fit_transform(data)\n",
    "\n",
    "# histogram of the transformed data\n",
    "pyplot.hist(data_trans, bins=25)\n",
    "pyplot.title('exp transformed to Normal distribution')\n",
    "pyplot.show()\n"
   ]
  },
  {
   "cell_type": "markdown",
   "metadata": {},
   "source": [
    "<h1> Sonar Dataset Example </h1>"
   ]
  },
  {
   "cell_type": "markdown",
   "metadata": {},
   "source": [
    "<p>using Sonar dataset to try Quantile Transformations</p>\n",
    "<p>https://raw.githubusercontent.com/jbrownlee/Datasets/master/sonar.names</p>\n",
    "<p>https://raw.githubusercontent.com/jbrownlee/Datasets/master/sonar.csv</p>"
   ]
  },
  {
   "cell_type": "code",
   "execution_count": 36,
   "metadata": {},
   "outputs": [
    {
     "name": "stdout",
     "output_type": "stream",
     "text": [
      "       0       1       2       3       4       5       6       7       8   \\\n",
      "0  0.0200  0.0371  0.0428  0.0207  0.0954  0.0986  0.1539  0.1601  0.3109   \n",
      "1  0.0453  0.0523  0.0843  0.0689  0.1183  0.2583  0.2156  0.3481  0.3337   \n",
      "2  0.0262  0.0582  0.1099  0.1083  0.0974  0.2280  0.2431  0.3771  0.5598   \n",
      "3  0.0100  0.0171  0.0623  0.0205  0.0205  0.0368  0.1098  0.1276  0.0598   \n",
      "4  0.0762  0.0666  0.0481  0.0394  0.0590  0.0649  0.1209  0.2467  0.3564   \n",
      "\n",
      "       9   ...      51      52      53      54      55      56      57  \\\n",
      "0  0.2111  ...  0.0027  0.0065  0.0159  0.0072  0.0167  0.0180  0.0084   \n",
      "1  0.2872  ...  0.0084  0.0089  0.0048  0.0094  0.0191  0.0140  0.0049   \n",
      "2  0.6194  ...  0.0232  0.0166  0.0095  0.0180  0.0244  0.0316  0.0164   \n",
      "3  0.1264  ...  0.0121  0.0036  0.0150  0.0085  0.0073  0.0050  0.0044   \n",
      "4  0.4459  ...  0.0031  0.0054  0.0105  0.0110  0.0015  0.0072  0.0048   \n",
      "\n",
      "       58      59  60  \n",
      "0  0.0090  0.0032   R  \n",
      "1  0.0052  0.0044   R  \n",
      "2  0.0095  0.0078   R  \n",
      "3  0.0040  0.0117   R  \n",
      "4  0.0107  0.0094   R  \n",
      "\n",
      "[5 rows x 61 columns]\n",
      "(208, 61)\n",
      "               0           1           2           3           4           5   \\\n",
      "count  208.000000  208.000000  208.000000  208.000000  208.000000  208.000000   \n",
      "mean     0.029164    0.038437    0.043832    0.053892    0.075202    0.104570   \n",
      "std      0.022991    0.032960    0.038428    0.046528    0.055552    0.059105   \n",
      "min      0.001500    0.000600    0.001500    0.005800    0.006700    0.010200   \n",
      "25%      0.013350    0.016450    0.018950    0.024375    0.038050    0.067025   \n",
      "50%      0.022800    0.030800    0.034300    0.044050    0.062500    0.092150   \n",
      "75%      0.035550    0.047950    0.057950    0.064500    0.100275    0.134125   \n",
      "max      0.137100    0.233900    0.305900    0.426400    0.401000    0.382300   \n",
      "\n",
      "               6           7           8           9   ...          50  \\\n",
      "count  208.000000  208.000000  208.000000  208.000000  ...  208.000000   \n",
      "mean     0.121747    0.134799    0.178003    0.208259  ...    0.016069   \n",
      "std      0.061788    0.085152    0.118387    0.134416  ...    0.012008   \n",
      "min      0.003300    0.005500    0.007500    0.011300  ...    0.000000   \n",
      "25%      0.080900    0.080425    0.097025    0.111275  ...    0.008425   \n",
      "50%      0.106950    0.112100    0.152250    0.182400  ...    0.013900   \n",
      "75%      0.154000    0.169600    0.233425    0.268700  ...    0.020825   \n",
      "max      0.372900    0.459000    0.682800    0.710600  ...    0.100400   \n",
      "\n",
      "               51          52          53          54          55          56  \\\n",
      "count  208.000000  208.000000  208.000000  208.000000  208.000000  208.000000   \n",
      "mean     0.013420    0.010709    0.010941    0.009290    0.008222    0.007820   \n",
      "std      0.009634    0.007060    0.007301    0.007088    0.005736    0.005785   \n",
      "min      0.000800    0.000500    0.001000    0.000600    0.000400    0.000300   \n",
      "25%      0.007275    0.005075    0.005375    0.004150    0.004400    0.003700   \n",
      "50%      0.011400    0.009550    0.009300    0.007500    0.006850    0.005950   \n",
      "75%      0.016725    0.014900    0.014500    0.012100    0.010575    0.010425   \n",
      "max      0.070900    0.039000    0.035200    0.044700    0.039400    0.035500   \n",
      "\n",
      "               57          58          59  \n",
      "count  208.000000  208.000000  208.000000  \n",
      "mean     0.007949    0.007941    0.006507  \n",
      "std      0.006470    0.006181    0.005031  \n",
      "min      0.000300    0.000100    0.000600  \n",
      "25%      0.003600    0.003675    0.003100  \n",
      "50%      0.005800    0.006400    0.005300  \n",
      "75%      0.010350    0.010325    0.008525  \n",
      "max      0.044000    0.036400    0.043900  \n",
      "\n",
      "[8 rows x 60 columns]\n"
     ]
    },
    {
     "data": {
      "image/png": "[encoded data removed]",
      "text/plain": [
       "<Figure size 432x288 with 64 Axes>"
      ]
     },
     "metadata": {
      "needs_background": "light"
     },
     "output_type": "display_data"
    }
   ],
   "source": [
    "# load and summarize the sonar dataset\n",
    "from pandas import read_csv\n",
    "from pandas.plotting import scatter_matrix\n",
    "from matplotlib import pyplot\n",
    "\n",
    "# Load dataset\n",
    "url = \"https://raw.githubusercontent.com/jbrownlee/Datasets/master/sonar.csv\"\n",
    "dataset = read_csv(url, header=None)\n",
    "\n",
    "#checking dataset\n",
    "print(dataset.head(5))\n",
    "\n",
    "# summarize the shape of the dataset\n",
    "print(dataset.shape)\n",
    "\n",
    "# summarize each variable\n",
    "print(dataset.describe())\n",
    "\n",
    "# histograms of the variables\n",
    "dataset.hist()\n",
    "pyplot.show()"
   ]
  },
  {
   "cell_type": "code",
   "execution_count": 37,
   "metadata": {},
   "outputs": [
    {
     "name": "stdout",
     "output_type": "stream",
     "text": [
      "Accuracy: 0.797 (0.073)\n"
     ]
    }
   ],
   "source": [
    "# evaluate knn on the raw sonar dataset\n",
    "from numpy import mean\n",
    "from numpy import std\n",
    "from pandas import read_csv\n",
    "from sklearn.model_selection import cross_val_score\n",
    "from sklearn.model_selection import RepeatedStratifiedKFold\n",
    "from sklearn.neighbors import KNeighborsClassifier\n",
    "from sklearn.preprocessing import LabelEncoder\n",
    "from matplotlib import pyplot\n",
    "\n",
    "data = dataset.values\n",
    "\n",
    "# separate into input and output columns\n",
    "X, y = data[:, :-1], data[:, -1]\n",
    "\n",
    "# ensure inputs are floats and output is an integer label\n",
    "X = X.astype('float32')\n",
    "y = LabelEncoder().fit_transform(y.astype('str'))\n",
    "\n",
    "# define and configure the model\n",
    "model = KNeighborsClassifier()\n",
    "\n",
    "# evaluate the model\n",
    "cv = RepeatedStratifiedKFold(n_splits=10, n_repeats=3, random_state=1)\n",
    "n_scores = cross_val_score(model, X, y, scoring='accuracy', cv=cv, n_jobs=-1, error_score='raise')\n",
    "\n",
    "# report model performance\n",
    "print('Accuracy: %.3f (%.3f)' % (mean(n_scores), std(n_scores)))"
   ]
  },
  {
   "cell_type": "markdown",
   "metadata": {},
   "source": [
    "<h1> Sonar Dataset Example with Normal Quantile Transform</h1>"
   ]
  },
  {
   "cell_type": "code",
   "execution_count": 38,
   "metadata": {},
   "outputs": [
    {
     "name": "stdout",
     "output_type": "stream",
     "text": [
      "Accuracy: 0.817 (0.087)\n"
     ]
    }
   ],
   "source": [
    "# # evaluate knn on the sonar dataset with normal quantile transform\n",
    "\n",
    "from sklearn.pipeline import Pipeline\n",
    "\n",
    "# dataset = read_csv(url, header=None)\n",
    "data = dataset.values\n",
    "\n",
    "# separate into input and output columns\n",
    "X, y = data[:, :-1], data[:, -1]\n",
    "\n",
    "# ensure inputs are floats and output is an integer label\n",
    "X = X.astype('float32')\n",
    "y = LabelEncoder().fit_transform(y.astype('str'))\n",
    "\n",
    "# define the pipeline\n",
    "trans = QuantileTransformer(n_quantiles=100, output_distribution='normal')\n",
    "model = KNeighborsClassifier()\n",
    "pipeline = Pipeline(steps=[('t', trans), ('m', model)])\n",
    "\n",
    "# evaluate the pipeline\n",
    "cv = RepeatedStratifiedKFold(n_splits=10, n_repeats=3, random_state=1)\n",
    "n_scores = cross_val_score(pipeline, X, y, scoring='accuracy', cv=cv, n_jobs=-1, error_score='raise')\n",
    "\n",
    "# report pipeline performance\n",
    "print('Accuracy: %.3f (%.3f)' % (mean(n_scores), std(n_scores)))"
   ]
  },
  {
   "cell_type": "markdown",
   "metadata": {},
   "source": [
    "<h1> Sonar Dataset Example with Uniform Quantile Transform</h1>"
   ]
  },
  {
   "cell_type": "code",
   "execution_count": 39,
   "metadata": {},
   "outputs": [
    {
     "data": {
      "image/png": "[encoded data removed]",
      "text/plain": [
       "<Figure size 432x288 with 1 Axes>"
      ]
     },
     "metadata": {
      "needs_background": "light"
     },
     "output_type": "display_data"
    }
   ],
   "source": [
    "#visualize a uniform quantile transform of the sonar dataset\n",
    "from pandas import read_csv\n",
    "from pandas import DataFrame\n",
    "from pandas.plotting import scatter_matrix\n",
    "from sklearn.preprocessing import QuantileTransformer\n",
    "from matplotlib import pyplot\n",
    "# load dataset\n",
    "url = \"https://raw.githubusercontent.com/jbrownlee/Datasets/master/sonar.csv\"\n",
    "dataset = read_csv(url, header=None)\n",
    "#retrieve just the numeric input values\n",
    "data = dataset.values[:, :-1]\n",
    "# perform a uniform quantile transform of the dataset\n",
    "trans = QuantileTransformer(n_quantiles=100, output_distribution='uniform')\n",
    "data = trans.fit_transform(data)\n",
    "# convert the array back to a dataframe\n",
    "dataset = DataFrame(data[1])\n",
    "# histograms of 1 of the variables\n",
    "dataset.hist()\n",
    "pyplot.show()"
   ]
  },
  {
   "cell_type": "code",
   "execution_count": 42,
   "metadata": {},
   "outputs": [
    {
     "name": "stdout",
     "output_type": "stream",
     "text": [
      "Accuracy: 0.845 (0.074)\n"
     ]
    }
   ],
   "source": [
    "#evaluate knn on the sonar dataset with uniform quantile transform\n",
    "from numpy import mean\n",
    "from numpy import std\n",
    "from pandas import read_csv\n",
    "from sklearn.model_selection import cross_val_score\n",
    "from sklearn.model_selection import RepeatedStratifiedKFold\n",
    "from sklearn.neighbors import KNeighborsClassifier\n",
    "from sklearn.preprocessing import LabelEncoder\n",
    "from sklearn.preprocessing import QuantileTransformer\n",
    "from sklearn.pipeline import Pipeline\n",
    "from matplotlib import pyplot\n",
    "\n",
    "# load dataset\n",
    "url = \"https://raw.githubusercontent.com/jbrownlee/Datasets/master/sonar.csv\"\n",
    "\n",
    "dataset = read_csv(url, header=None)\n",
    "data = dataset.values\n",
    "\n",
    "# separate into input and output columns\n",
    "X, y = data[:, :-1], data[:, -1]\n",
    "\n",
    "# ensure inputs are floats and output is an integer label\n",
    "X = X.astype('float32')\n",
    "y = LabelEncoder().fit_transform(y.astype('str'))\n",
    "\n",
    "# define the pipeline\n",
    "trans = QuantileTransformer(n_quantiles=100, output_distribution='uniform')\n",
    "model = KNeighborsClassifier()\n",
    "pipeline = Pipeline(steps=[('t', trans), ('m', model)])\n",
    "\n",
    "# evaluate the pipeline\n",
    "cv = RepeatedStratifiedKFold(n_splits=10, n_repeats=3, random_state=1)\n",
    "n_scores = cross_val_score(pipeline, X, y, scoring='accuracy', cv=cv, n_jobs=-1, error_score='raise')\n",
    "# report pipeline performance\n",
    "print('Accuracy: %.3f (%.3f)' % (mean(n_scores), std(n_scores)))"
   ]
  },
  {
   "cell_type": "markdown",
   "metadata": {},
   "source": [
    "<p>We chose the number of quantiles as an arbitrary number, in this case, 100.\n",
    "\n",
    "This hyperparameter can be tuned to explore the effect of the resolution of the transform on the resulting skill of the model.\n",
    "\n",
    "The example below performs this experiment and plots the mean accuracy for different “n_quantiles” values from 1 to 99.</p>"
   ]
  },
  {
   "cell_type": "code",
   "execution_count": 43,
   "metadata": {},
   "outputs": [
    {
     "name": "stdout",
     "output_type": "stream",
     "text": [
      ">1 0.466 (0.016)\n",
      ">2 0.813 (0.085)\n",
      ">3 0.840 (0.080)\n",
      ">4 0.854 (0.075)\n",
      ">5 0.848 (0.072)\n",
      ">6 0.851 (0.071)\n",
      ">7 0.845 (0.071)\n",
      ">8 0.848 (0.066)\n",
      ">9 0.848 (0.071)\n",
      ">10 0.843 (0.074)\n",
      ">11 0.838 (0.069)\n",
      ">12 0.838 (0.069)\n",
      ">13 0.846 (0.071)\n",
      ">14 0.842 (0.071)\n",
      ">15 0.845 (0.068)\n",
      ">16 0.841 (0.074)\n",
      ">17 0.846 (0.071)\n",
      ">18 0.842 (0.075)\n",
      ">19 0.840 (0.075)\n",
      ">20 0.838 (0.076)\n",
      ">21 0.843 (0.071)\n",
      ">22 0.845 (0.073)\n",
      ">23 0.843 (0.068)\n",
      ">24 0.845 (0.072)\n",
      ">25 0.840 (0.077)\n",
      ">26 0.843 (0.072)\n",
      ">27 0.842 (0.073)\n",
      ">28 0.840 (0.076)\n",
      ">29 0.845 (0.072)\n",
      ">30 0.840 (0.075)\n",
      ">31 0.838 (0.076)\n",
      ">32 0.842 (0.075)\n",
      ">33 0.843 (0.074)\n",
      ">34 0.843 (0.075)\n",
      ">35 0.842 (0.075)\n",
      ">36 0.843 (0.073)\n",
      ">37 0.842 (0.075)\n",
      ">38 0.843 (0.075)\n",
      ">39 0.840 (0.076)\n",
      ">40 0.845 (0.074)\n",
      ">41 0.841 (0.072)\n",
      ">42 0.842 (0.075)\n",
      ">43 0.842 (0.074)\n",
      ">44 0.843 (0.074)\n",
      ">45 0.840 (0.076)\n",
      ">46 0.842 (0.075)\n",
      ">47 0.845 (0.072)\n",
      ">48 0.842 (0.073)\n",
      ">49 0.840 (0.073)\n",
      ">50 0.842 (0.072)\n",
      ">51 0.842 (0.075)\n",
      ">52 0.845 (0.071)\n",
      ">53 0.843 (0.075)\n",
      ">54 0.845 (0.074)\n",
      ">55 0.838 (0.076)\n",
      ">56 0.846 (0.073)\n",
      ">57 0.845 (0.073)\n",
      ">58 0.845 (0.075)\n",
      ">59 0.848 (0.073)\n",
      ">60 0.845 (0.074)\n",
      ">61 0.843 (0.073)\n",
      ">62 0.843 (0.074)\n",
      ">63 0.842 (0.075)\n",
      ">64 0.843 (0.073)\n",
      ">65 0.842 (0.074)\n",
      ">66 0.845 (0.074)\n",
      ">67 0.846 (0.075)\n",
      ">68 0.846 (0.072)\n",
      ">69 0.845 (0.076)\n",
      ">70 0.846 (0.075)\n",
      ">71 0.840 (0.075)\n",
      ">72 0.842 (0.074)\n",
      ">73 0.843 (0.073)\n",
      ">74 0.843 (0.075)\n",
      ">75 0.841 (0.075)\n",
      ">76 0.845 (0.074)\n",
      ">77 0.846 (0.074)\n",
      ">78 0.845 (0.076)\n",
      ">79 0.846 (0.072)\n",
      ">80 0.845 (0.075)\n",
      ">81 0.843 (0.073)\n",
      ">82 0.840 (0.076)\n",
      ">83 0.845 (0.075)\n",
      ">84 0.845 (0.074)\n",
      ">85 0.845 (0.074)\n",
      ">86 0.845 (0.076)\n",
      ">87 0.845 (0.075)\n",
      ">88 0.843 (0.075)\n",
      ">89 0.845 (0.074)\n",
      ">90 0.843 (0.075)\n",
      ">91 0.843 (0.074)\n",
      ">92 0.846 (0.074)\n",
      ">93 0.846 (0.075)\n",
      ">94 0.845 (0.076)\n",
      ">95 0.843 (0.074)\n",
      ">96 0.845 (0.074)\n",
      ">97 0.846 (0.073)\n",
      ">98 0.843 (0.073)\n",
      ">99 0.846 (0.075)\n"
     ]
    },
    {
     "data": {
      "image/png": "[encoded data removed]",
      "text/plain": [
       "<Figure size 432x288 with 1 Axes>"
      ]
     },
     "metadata": {
      "needs_background": "light"
     },
     "output_type": "display_data"
    }
   ],
   "source": [
    "# explore number of quantiles on classification accuracy\n",
    "from numpy import mean\n",
    "from numpy import std\n",
    "from pandas import read_csv\n",
    "from sklearn.model_selection import cross_val_score\n",
    "from sklearn.model_selection import RepeatedStratifiedKFold\n",
    "from sklearn.neighbors import KNeighborsClassifier\n",
    "from sklearn.preprocessing import QuantileTransformer\n",
    "from sklearn.preprocessing import LabelEncoder\n",
    "from sklearn.pipeline import Pipeline\n",
    "from matplotlib import pyplot\n",
    " \n",
    "# get the dataset\n",
    "def get_dataset():\n",
    "\t# load dataset\n",
    "\turl = \"https://raw.githubusercontent.com/jbrownlee/Datasets/master/sonar.csv\"\n",
    "\tdataset = read_csv(url, header=None)\n",
    "\tdata = dataset.values\n",
    "\t# separate into input and output columns\n",
    "\tX, y = data[:, :-1], data[:, -1]\n",
    "\t# ensure inputs are floats and output is an integer label\n",
    "\tX = X.astype('float32')\n",
    "\ty = LabelEncoder().fit_transform(y.astype('str'))\n",
    "\treturn X, y\n",
    " \n",
    "# get a list of models to evaluate\n",
    "def get_models():\n",
    "\tmodels = dict()\n",
    "\tfor i in range(1,100):\n",
    "\t\t# define the pipeline\n",
    "\t\ttrans = QuantileTransformer(n_quantiles=i, output_distribution='uniform')\n",
    "\t\tmodel = KNeighborsClassifier()\n",
    "\t\tmodels[str(i)] = Pipeline(steps=[('t', trans), ('m', model)])\n",
    "\treturn models\n",
    " \n",
    "# evaluate a give model using cross-validation\n",
    "def evaluate_model(model, X, y):\n",
    "\tcv = RepeatedStratifiedKFold(n_splits=10, n_repeats=3, random_state=1)\n",
    "\tscores = cross_val_score(model, X, y, scoring='accuracy', cv=cv, n_jobs=-1, error_score='raise')\n",
    "\treturn scores\n",
    " \n",
    "# define dataset\n",
    "X, y = get_dataset()\n",
    "# get the models to evaluate\n",
    "models = get_models()\n",
    "# evaluate the models and store results\n",
    "results = list()\n",
    "for name, model in models.items():\n",
    "\tscores = evaluate_model(model, X, y)\n",
    "\tresults.append(mean(scores))\n",
    "\tprint('>%s %.3f (%.3f)' % (name, mean(scores), std(scores)))\n",
    "# plot model performance for comparison\n",
    "pyplot.plot(results)\n",
    "pyplot.show()"
   ]
  },
  {
   "cell_type": "markdown",
   "metadata": {},
   "source": [
    "<p>A line plot is created showing the number of quantiles used in the transform versus the classification accuracy of the resulting model.\n",
    "\n",
    "We can see a bump with values less than 10 and drop and flat performance after that.\n",
    "\n",
    "The results highlight that there is likely some benefit in exploring different distributions and number of quantiles to see if better performance can be achieved.</p>"
   ]
  },
  {
   "cell_type": "code",
   "execution_count": null,
   "metadata": {},
   "outputs": [],
   "source": []
  }
 ],
 "metadata": {
  "kernelspec": {
   "display_name": "Python 3.7 (tensorflow)",
   "language": "python",
   "name": "tensorflow"
  },
  "language_info": {
   "codemirror_mode": {
    "name": "ipython",
    "version": 3
   },
   "file_extension": ".py",
   "mimetype": "text/x-python",
   "name": "python",
   "nbconvert_exporter": "python",
   "pygments_lexer": "ipython3",
   "version": "3.7.7"
  }
 },
 "nbformat": 4,
 "nbformat_minor": 4
}
