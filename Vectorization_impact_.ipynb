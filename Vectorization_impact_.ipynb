{
  "nbformat": 4,
  "nbformat_minor": 0,
  "metadata": {
    "colab": {
      "name": "Vectorization_impact .ipynb",
      "provenance": [],
      "authorship_tag": "ABX9TyNz0f+xVRkvKh73SOOsLFTf",
      "include_colab_link": true
    },
    "kernelspec": {
      "name": "python3",
      "display_name": "Python 3"
    }
  },
  "cells": [
    {
      "cell_type": "markdown",
      "metadata": {
        "id": "view-in-github",
        "colab_type": "text"
      },
      "source": [
        "<a href=\"https://colab.research.google.com/github/RobertHessar/ML-Experience/blob/master/Vectorization_impact_.ipynb\" target=\"_parent\"><img src=\"https://colab.research.google.com/assets/colab-badge.svg\" alt=\"Open In Colab\"/></a>"
      ]
    },
    {
      "cell_type": "markdown",
      "metadata": {
        "id": "EJxcAM6IAmXa"
      },
      "source": [
        "This code shows how vectorization methods have helped deep learning be more computationlly efficient than explicit for loops\r\n"
      ]
    },
    {
      "cell_type": "code",
      "metadata": {
        "id": "DX_3uQWeAd9Y"
      },
      "source": [
        "import numpy as np\r\n",
        "import time\r\n"
      ],
      "execution_count": 1,
      "outputs": []
    },
    {
      "cell_type": "code",
      "metadata": {
        "id": "D-7FY6UiA2i0"
      },
      "source": [
        "a = np.random.rand(1000000)\r\n",
        "b = np.random.rand(1000000)"
      ],
      "execution_count": 2,
      "outputs": []
    },
    {
      "cell_type": "code",
      "metadata": {
        "colab": {
          "base_uri": "https://localhost:8080/"
        },
        "id": "5QBoEHn7BCFX",
        "outputId": "4f81c7a0-bee7-4bf6-eff4-ba07b094cc9e"
      },
      "source": [
        "#Vector version\r\n",
        "tic = time.time()\r\n",
        "c = np.dot(a,b)\r\n",
        "toc = time.time()\r\n",
        "\r\n",
        "print(\"Vectorized Version:\"+ str(1000*(toc-tic)) +' ms')\r\n",
        "print(\"c=\",c)\r\n",
        "\r\n",
        "#loop version\r\n",
        "c = 0\r\n",
        "tic = time.time()\r\n",
        "for i in range(1000000):\r\n",
        "  c += a[i]*b[i]\r\n",
        "toc = time.time()\r\n",
        "print(\"for loop Version:\"+ str(1000*(toc-tic)) +' ms')\r\n",
        "print(\"c=\",c)"
      ],
      "execution_count": 12,
      "outputs": [
        {
          "output_type": "stream",
          "text": [
            "Vectorized Version:1.7240047454833984 ms\n",
            "c= 249997.81673210298\n",
            "for loop Version:642.4367427825928 ms\n",
            "c= 249997.81673209058\n"
          ],
          "name": "stdout"
        }
      ]
    }
  ]
}