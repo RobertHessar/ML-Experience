{
  "nbformat": 4,
  "nbformat_minor": 0,
  "metadata": {
    "colab": {
      "name": "Robert_Hessar_perceptron_assignment",
      "provenance": [],
      "collapsed_sections": []
    },
    "kernelspec": {
      "name": "python3",
      "display_name": "Python 3"
    }
  },
  "cells": [
    {
      "cell_type": "markdown",
      "metadata": {
        "id": "5hG3OWeGxA0Z"
      },
      "source": [
        "# Perceptron Binary Classifer"
      ]
    },
    {
      "cell_type": "markdown",
      "metadata": {
        "id": "rK_RiqWyxN38"
      },
      "source": [
        "We will first import the tools we will use"
      ]
    },
    {
      "cell_type": "code",
      "metadata": {
        "id": "Qzgqb6YZIh5w"
      },
      "source": [
        "#Importing packages \n",
        "from sklearn import datasets\n",
        "import matplotlib.pyplot as plt\n",
        "from sklearn.model_selection import train_test_split\n",
        "from sklearn.metrics import confusion_matrix\n",
        "import pandas as pd\n",
        "from imblearn.over_sampling import SMOTE\n",
        "import numpy as np\n",
        "import seaborn as sns"
      ],
      "execution_count": null,
      "outputs": []
    },
    {
      "cell_type": "markdown",
      "metadata": {
        "id": "gtzmHWPAw_Yy"
      },
      "source": [
        "We will define a class object for our Perceptron model. It will have key methods fit and predict. "
      ]
    },
    {
      "cell_type": "code",
      "metadata": {
        "id": "t14nFwMdqT2b"
      },
      "source": [
        "#defining perceptron class \n",
        "class Perceptron:\n",
        "    \"\"\"\n",
        "    This  class definition for\n",
        "    preceptron algorithm. fit method learns the feature weights and bias\n",
        "    relatioship to lables and the predict algorithm makes \n",
        "    prediction based on learned weights\n",
        "\n",
        "    \"\"\"\n",
        "    def __init__(self, learning_rate=0.001, epochs=100):\n",
        "        self.lr = learning_rate  # This is a number used to control how quickly it learns\n",
        "        self.epochs = epochs   # This paramter determines the epochs of the training before stopping\n",
        "        self.weights = None # these are the weights \n",
        "        self.bias = None #bias parameter \n",
        "\n",
        "    def fit(self, X, y):\n",
        "        \"\"\"\n",
        "        this function will learn the weights\n",
        "        input is training data and lables \n",
        "        it will learn the weights and bias \n",
        "        \"\"\"\n",
        "        n_samples, n_features = X.shape # we check our X shape and set the size to number of rows/samples and columns as features \n",
        "        self.weights = np.zeros(n_features) # we initilize weights to 0 initially \n",
        "        self.bias = 0 #\n",
        "\n",
        "        y_ = np.array([1 if i > 0 else 0 for i in y]) # make sure Y values are mapped to 0, 1 , example -1, 1 \n",
        "        print(\"Starting weights\", self.weights) \n",
        "        print(\"Starting bias weight\", self.bias)\n",
        "        #loop1 over epochs \n",
        "        for _ in range(self.epochs):\n",
        "            #loop2 over features  \n",
        "            for idx, x_i in enumerate(X):\n",
        "                #print(idx, x_i)\n",
        "                linear_output = np.dot(x_i, self.weights) + self.bias\n",
        "                y_predicted = np.where(linear_output>=0, 1, 0)\n",
        "                # Perceptron adjust rule\n",
        "                adjustment = self.lr * (y_[idx] - y_predicted) # adjustment will be determined by comparing real y to predicted \n",
        "                self.weights += adjustment * x_i #adjust weights\n",
        "                self.bias += adjustment # adjust bias\n",
        "        print(\"Final weights\", self.weights)  \n",
        "        print(\"Final bias weight\", self.bias)\n",
        "        \n",
        "\n",
        "    def predict(self, X):\n",
        "        \"\"\"\n",
        "        this function takes Features as input\n",
        "        uses weights and bias and performs the dot product and \n",
        "        activation function and outputs 0 or 1\n",
        "        \"\"\"\n",
        "        linear_output = np.dot(X, self.weights) + self.bias # wx+b weights and features + bias \n",
        "        y_predicted = np.where(linear_output>=0, 1, 0) # activation  \n",
        "        return y_predicted\n"
      ],
      "execution_count": null,
      "outputs": []
    },
    {
      "cell_type": "markdown",
      "metadata": {
        "id": "F6DXjaTGx58o"
      },
      "source": [
        "We will define a basic function which can be used to check accuarcy of predictions "
      ]
    },
    {
      "cell_type": "code",
      "metadata": {
        "id": "JOuVsaJ4LVuH"
      },
      "source": [
        "#function for chekcing accuracy\n",
        "def acc(y_true, y_pred):\n",
        "  \"\"\"\n",
        "  function takes 2 values, y_true and y_pred and\n",
        "  worksout ration based how many correctly predicted\n",
        "  returs accuracy ratio %\n",
        "  \"\"\"\n",
        "  accuracy = np.sum(y_true == y_pred) / len(y_true)\n",
        "  return accuracy\n"
      ],
      "execution_count": null,
      "outputs": []
    },
    {
      "cell_type": "markdown",
      "metadata": {
        "id": "Ebswozbix8PI"
      },
      "source": [
        "In this section we will use dummy dataset blobs from Sklean just to test our Model initially"
      ]
    },
    {
      "cell_type": "code",
      "metadata": {
        "id": "cyt0_scrtQFV",
        "colab": {
          "base_uri": "https://localhost:8080/"
        },
        "outputId": "ce92ad98-0679-4b96-f97c-da6db7857a67"
      },
      "source": [
        "# #test data blob generator used during initial testing \n",
        "X, y = datasets.make_blobs(n_samples=150, n_features=8, centers=2, cluster_std=1.05, random_state=22)\n",
        "X_train, X_test, y_train, y_test = train_test_split(X,y, test_size=0.2, random_state=123)\n",
        "print(X_train.shape, y_train.shape)\n",
        "print (type(X_train), type(y_train))\n",
        "#using our preceptron class to fit and predict\n",
        "p= Perceptron(learning_rate=0.001, epochs=150)\n",
        "p.fit(X_train, y_train)\n",
        "y_pred = p.predict(X_test)\n",
        "print(\"Accuracy is : \", acc(y_test, y_pred))\n",
        "#checking confusion matrix\n",
        "print('confusion matrix\\n', confusion_matrix(y_test, y_pred))"
      ],
      "execution_count": null,
      "outputs": [
        {
          "output_type": "stream",
          "text": [
            "(120, 8) (120,)\n",
            "<class 'numpy.ndarray'> <class 'numpy.ndarray'>\n",
            "Starting weights [0. 0. 0. 0. 0. 0. 0. 0.]\n",
            "Starting bias weight 0\n",
            "Final weights [-0.00035588  0.00583077 -0.00938398 -0.00430464  0.01142283  0.01001561\n",
            " -0.00363861 -0.01387817]\n",
            "Final bias weight 0.0\n",
            "Accuracy is :  1.0\n",
            "confusion matrix\n",
            " [[17  0]\n",
            " [ 0 13]]\n"
          ],
          "name": "stdout"
        }
      ]
    },
    {
      "cell_type": "markdown",
      "metadata": {
        "id": "jeauGUqpyMpQ"
      },
      "source": [
        "Model perfomed well on blob data but we need some real dataset, we will use UCI dataset for adult income prediction"
      ]
    },
    {
      "cell_type": "code",
      "metadata": {
        "id": "PpK3rT3rjk_W"
      },
      "source": [
        "#Dataset from UCI adult income dataset , binary classfication of income being higher or lower-equal to 50K\n",
        "url = \"https://archive.ics.uci.edu/ml/machine-learning-databases/adult/adult.data\"\n",
        "data = pd.read_csv(url)"
      ],
      "execution_count": null,
      "outputs": []
    },
    {
      "cell_type": "markdown",
      "metadata": {
        "id": "eQc4WevtyX0h"
      },
      "source": [
        "Adding column names to the table from the UCI website data info and perfom EDA"
      ]
    },
    {
      "cell_type": "code",
      "metadata": {
        "id": "-RLWlhLWUltx"
      },
      "source": [
        "#rename columns based data info file https://archive.ics.uci.edu/ml/machine-learning-databases/adult/adult.names\n",
        "data.columns =['age', 'workclass', 'fnlwgt', 'education', 'educational-num', 'marital',\n",
        "       'occupation', 'relationship', 'race', 'gender', 'capital gain',\n",
        "       'capital loss', 'hours per week', 'country', 'income']"
      ],
      "execution_count": null,
      "outputs": []
    },
    {
      "cell_type": "code",
      "metadata": {
        "colab": {
          "base_uri": "https://localhost:8080/",
          "height": 200
        },
        "id": "jXD7Bsu3VwoF",
        "outputId": "a3c30d58-5c5d-4f5f-fdb2-fc418e4df868"
      },
      "source": [
        "#checking the dataframe \n",
        "data.head()"
      ],
      "execution_count": null,
      "outputs": [
        {
          "output_type": "execute_result",
          "data": {
            "text/html": [
              "<div>\n",
              "<style scoped>\n",
              "    .dataframe tbody tr th:only-of-type {\n",
              "        vertical-align: middle;\n",
              "    }\n",
              "\n",
              "    .dataframe tbody tr th {\n",
              "        vertical-align: top;\n",
              "    }\n",
              "\n",
              "    .dataframe thead th {\n",
              "        text-align: right;\n",
              "    }\n",
              "</style>\n",
              "<table border=\"1\" class=\"dataframe\">\n",
              "  <thead>\n",
              "    <tr style=\"text-align: right;\">\n",
              "      <th></th>\n",
              "      <th>age</th>\n",
              "      <th>workclass</th>\n",
              "      <th>fnlwgt</th>\n",
              "      <th>education</th>\n",
              "      <th>educational-num</th>\n",
              "      <th>marital</th>\n",
              "      <th>occupation</th>\n",
              "      <th>relationship</th>\n",
              "      <th>race</th>\n",
              "      <th>gender</th>\n",
              "      <th>capital gain</th>\n",
              "      <th>capital loss</th>\n",
              "      <th>hours per week</th>\n",
              "      <th>country</th>\n",
              "      <th>income</th>\n",
              "    </tr>\n",
              "  </thead>\n",
              "  <tbody>\n",
              "    <tr>\n",
              "      <th>0</th>\n",
              "      <td>50</td>\n",
              "      <td>Self-emp-not-inc</td>\n",
              "      <td>83311</td>\n",
              "      <td>Bachelors</td>\n",
              "      <td>13</td>\n",
              "      <td>Married-civ-spouse</td>\n",
              "      <td>Exec-managerial</td>\n",
              "      <td>Husband</td>\n",
              "      <td>White</td>\n",
              "      <td>Male</td>\n",
              "      <td>0</td>\n",
              "      <td>0</td>\n",
              "      <td>13</td>\n",
              "      <td>United-States</td>\n",
              "      <td>&lt;=50K</td>\n",
              "    </tr>\n",
              "    <tr>\n",
              "      <th>1</th>\n",
              "      <td>38</td>\n",
              "      <td>Private</td>\n",
              "      <td>215646</td>\n",
              "      <td>HS-grad</td>\n",
              "      <td>9</td>\n",
              "      <td>Divorced</td>\n",
              "      <td>Handlers-cleaners</td>\n",
              "      <td>Not-in-family</td>\n",
              "      <td>White</td>\n",
              "      <td>Male</td>\n",
              "      <td>0</td>\n",
              "      <td>0</td>\n",
              "      <td>40</td>\n",
              "      <td>United-States</td>\n",
              "      <td>&lt;=50K</td>\n",
              "    </tr>\n",
              "    <tr>\n",
              "      <th>2</th>\n",
              "      <td>53</td>\n",
              "      <td>Private</td>\n",
              "      <td>234721</td>\n",
              "      <td>11th</td>\n",
              "      <td>7</td>\n",
              "      <td>Married-civ-spouse</td>\n",
              "      <td>Handlers-cleaners</td>\n",
              "      <td>Husband</td>\n",
              "      <td>Black</td>\n",
              "      <td>Male</td>\n",
              "      <td>0</td>\n",
              "      <td>0</td>\n",
              "      <td>40</td>\n",
              "      <td>United-States</td>\n",
              "      <td>&lt;=50K</td>\n",
              "    </tr>\n",
              "    <tr>\n",
              "      <th>3</th>\n",
              "      <td>28</td>\n",
              "      <td>Private</td>\n",
              "      <td>338409</td>\n",
              "      <td>Bachelors</td>\n",
              "      <td>13</td>\n",
              "      <td>Married-civ-spouse</td>\n",
              "      <td>Prof-specialty</td>\n",
              "      <td>Wife</td>\n",
              "      <td>Black</td>\n",
              "      <td>Female</td>\n",
              "      <td>0</td>\n",
              "      <td>0</td>\n",
              "      <td>40</td>\n",
              "      <td>Cuba</td>\n",
              "      <td>&lt;=50K</td>\n",
              "    </tr>\n",
              "    <tr>\n",
              "      <th>4</th>\n",
              "      <td>37</td>\n",
              "      <td>Private</td>\n",
              "      <td>284582</td>\n",
              "      <td>Masters</td>\n",
              "      <td>14</td>\n",
              "      <td>Married-civ-spouse</td>\n",
              "      <td>Exec-managerial</td>\n",
              "      <td>Wife</td>\n",
              "      <td>White</td>\n",
              "      <td>Female</td>\n",
              "      <td>0</td>\n",
              "      <td>0</td>\n",
              "      <td>40</td>\n",
              "      <td>United-States</td>\n",
              "      <td>&lt;=50K</td>\n",
              "    </tr>\n",
              "  </tbody>\n",
              "</table>\n",
              "</div>"
            ],
            "text/plain": [
              "   age          workclass  fnlwgt  ... hours per week         country  income\n",
              "0   50   Self-emp-not-inc   83311  ...             13   United-States   <=50K\n",
              "1   38            Private  215646  ...             40   United-States   <=50K\n",
              "2   53            Private  234721  ...             40   United-States   <=50K\n",
              "3   28            Private  338409  ...             40            Cuba   <=50K\n",
              "4   37            Private  284582  ...             40   United-States   <=50K\n",
              "\n",
              "[5 rows x 15 columns]"
            ]
          },
          "metadata": {
            "tags": []
          },
          "execution_count": 12
        }
      ]
    },
    {
      "cell_type": "code",
      "metadata": {
        "id": "Kli7iKfhr9N-"
      },
      "source": [
        "#We will keep things simple remove most of the categorical features, apart from gender \n",
        "data.drop(['fnlwgt', 'education','country', 'relationship', 'workclass', 'marital','occupation', 'race'], axis=1, inplace=True)"
      ],
      "execution_count": null,
      "outputs": []
    },
    {
      "cell_type": "code",
      "metadata": {
        "colab": {
          "base_uri": "https://localhost:8080/",
          "height": 200
        },
        "id": "-Pl0ylUssUhv",
        "outputId": "1d3191af-9b64-4637-ed80-a636f721fd32"
      },
      "source": [
        "#check the result of dropping columns \n",
        "data.head()"
      ],
      "execution_count": null,
      "outputs": [
        {
          "output_type": "execute_result",
          "data": {
            "text/html": [
              "<div>\n",
              "<style scoped>\n",
              "    .dataframe tbody tr th:only-of-type {\n",
              "        vertical-align: middle;\n",
              "    }\n",
              "\n",
              "    .dataframe tbody tr th {\n",
              "        vertical-align: top;\n",
              "    }\n",
              "\n",
              "    .dataframe thead th {\n",
              "        text-align: right;\n",
              "    }\n",
              "</style>\n",
              "<table border=\"1\" class=\"dataframe\">\n",
              "  <thead>\n",
              "    <tr style=\"text-align: right;\">\n",
              "      <th></th>\n",
              "      <th>age</th>\n",
              "      <th>educational-num</th>\n",
              "      <th>gender</th>\n",
              "      <th>capital gain</th>\n",
              "      <th>capital loss</th>\n",
              "      <th>hours per week</th>\n",
              "      <th>income</th>\n",
              "    </tr>\n",
              "  </thead>\n",
              "  <tbody>\n",
              "    <tr>\n",
              "      <th>0</th>\n",
              "      <td>50</td>\n",
              "      <td>13</td>\n",
              "      <td>Male</td>\n",
              "      <td>0</td>\n",
              "      <td>0</td>\n",
              "      <td>13</td>\n",
              "      <td>&lt;=50K</td>\n",
              "    </tr>\n",
              "    <tr>\n",
              "      <th>1</th>\n",
              "      <td>38</td>\n",
              "      <td>9</td>\n",
              "      <td>Male</td>\n",
              "      <td>0</td>\n",
              "      <td>0</td>\n",
              "      <td>40</td>\n",
              "      <td>&lt;=50K</td>\n",
              "    </tr>\n",
              "    <tr>\n",
              "      <th>2</th>\n",
              "      <td>53</td>\n",
              "      <td>7</td>\n",
              "      <td>Male</td>\n",
              "      <td>0</td>\n",
              "      <td>0</td>\n",
              "      <td>40</td>\n",
              "      <td>&lt;=50K</td>\n",
              "    </tr>\n",
              "    <tr>\n",
              "      <th>3</th>\n",
              "      <td>28</td>\n",
              "      <td>13</td>\n",
              "      <td>Female</td>\n",
              "      <td>0</td>\n",
              "      <td>0</td>\n",
              "      <td>40</td>\n",
              "      <td>&lt;=50K</td>\n",
              "    </tr>\n",
              "    <tr>\n",
              "      <th>4</th>\n",
              "      <td>37</td>\n",
              "      <td>14</td>\n",
              "      <td>Female</td>\n",
              "      <td>0</td>\n",
              "      <td>0</td>\n",
              "      <td>40</td>\n",
              "      <td>&lt;=50K</td>\n",
              "    </tr>\n",
              "  </tbody>\n",
              "</table>\n",
              "</div>"
            ],
            "text/plain": [
              "   age  educational-num   gender  ...  capital loss  hours per week  income\n",
              "0   50               13     Male  ...             0              13   <=50K\n",
              "1   38                9     Male  ...             0              40   <=50K\n",
              "2   53                7     Male  ...             0              40   <=50K\n",
              "3   28               13   Female  ...             0              40   <=50K\n",
              "4   37               14   Female  ...             0              40   <=50K\n",
              "\n",
              "[5 rows x 7 columns]"
            ]
          },
          "metadata": {
            "tags": []
          },
          "execution_count": 14
        }
      ]
    },
    {
      "cell_type": "code",
      "metadata": {
        "id": "kHQZF14gs1k3"
      },
      "source": [
        "# we will use some quick pandas regex replace option to replace, label income with 0 for <=50K and 1 for >50K and similary for gender 0 for Male and 1 for Female\n",
        "data.replace('<=50K', 0, regex=True, inplace=True)\n",
        "data.replace('>50K', 1, regex=True, inplace=True)\n",
        "data.replace('Male', 0, regex=True, inplace=True)\n",
        "data.replace('Female', 1, regex=True, inplace=True)"
      ],
      "execution_count": null,
      "outputs": []
    },
    {
      "cell_type": "code",
      "metadata": {
        "colab": {
          "base_uri": "https://localhost:8080/",
          "height": 200
        },
        "id": "eSJxs1EdtC0r",
        "outputId": "f806691c-dd50-4690-e4fb-518f17cb8fbd"
      },
      "source": [
        "#check result \n",
        "data.tail()"
      ],
      "execution_count": null,
      "outputs": [
        {
          "output_type": "execute_result",
          "data": {
            "text/html": [
              "<div>\n",
              "<style scoped>\n",
              "    .dataframe tbody tr th:only-of-type {\n",
              "        vertical-align: middle;\n",
              "    }\n",
              "\n",
              "    .dataframe tbody tr th {\n",
              "        vertical-align: top;\n",
              "    }\n",
              "\n",
              "    .dataframe thead th {\n",
              "        text-align: right;\n",
              "    }\n",
              "</style>\n",
              "<table border=\"1\" class=\"dataframe\">\n",
              "  <thead>\n",
              "    <tr style=\"text-align: right;\">\n",
              "      <th></th>\n",
              "      <th>age</th>\n",
              "      <th>educational-num</th>\n",
              "      <th>gender</th>\n",
              "      <th>capital gain</th>\n",
              "      <th>capital loss</th>\n",
              "      <th>hours per week</th>\n",
              "      <th>income</th>\n",
              "    </tr>\n",
              "  </thead>\n",
              "  <tbody>\n",
              "    <tr>\n",
              "      <th>32555</th>\n",
              "      <td>27</td>\n",
              "      <td>12</td>\n",
              "      <td>1</td>\n",
              "      <td>0</td>\n",
              "      <td>0</td>\n",
              "      <td>38</td>\n",
              "      <td>0</td>\n",
              "    </tr>\n",
              "    <tr>\n",
              "      <th>32556</th>\n",
              "      <td>40</td>\n",
              "      <td>9</td>\n",
              "      <td>0</td>\n",
              "      <td>0</td>\n",
              "      <td>0</td>\n",
              "      <td>40</td>\n",
              "      <td>1</td>\n",
              "    </tr>\n",
              "    <tr>\n",
              "      <th>32557</th>\n",
              "      <td>58</td>\n",
              "      <td>9</td>\n",
              "      <td>1</td>\n",
              "      <td>0</td>\n",
              "      <td>0</td>\n",
              "      <td>40</td>\n",
              "      <td>0</td>\n",
              "    </tr>\n",
              "    <tr>\n",
              "      <th>32558</th>\n",
              "      <td>22</td>\n",
              "      <td>9</td>\n",
              "      <td>0</td>\n",
              "      <td>0</td>\n",
              "      <td>0</td>\n",
              "      <td>20</td>\n",
              "      <td>0</td>\n",
              "    </tr>\n",
              "    <tr>\n",
              "      <th>32559</th>\n",
              "      <td>52</td>\n",
              "      <td>9</td>\n",
              "      <td>1</td>\n",
              "      <td>15024</td>\n",
              "      <td>0</td>\n",
              "      <td>40</td>\n",
              "      <td>1</td>\n",
              "    </tr>\n",
              "  </tbody>\n",
              "</table>\n",
              "</div>"
            ],
            "text/plain": [
              "       age  educational-num  gender  ...  capital loss  hours per week  income\n",
              "32555   27               12       1  ...             0              38       0\n",
              "32556   40                9       0  ...             0              40       1\n",
              "32557   58                9       1  ...             0              40       0\n",
              "32558   22                9       0  ...             0              20       0\n",
              "32559   52                9       1  ...             0              40       1\n",
              "\n",
              "[5 rows x 7 columns]"
            ]
          },
          "metadata": {
            "tags": []
          },
          "execution_count": 16
        }
      ]
    },
    {
      "cell_type": "code",
      "metadata": {
        "colab": {
          "base_uri": "https://localhost:8080/"
        },
        "id": "0svYHWXqnj-m",
        "outputId": "0fc9d06b-d39a-44e2-f81c-4d850b4d68a9"
      },
      "source": [
        "#checking size\n",
        "data.shape"
      ],
      "execution_count": null,
      "outputs": [
        {
          "output_type": "execute_result",
          "data": {
            "text/plain": [
              "(32560, 7)"
            ]
          },
          "metadata": {
            "tags": []
          },
          "execution_count": 18
        }
      ]
    },
    {
      "cell_type": "markdown",
      "metadata": {
        "id": "cQSzuFXpyr8f"
      },
      "source": [
        "we will use this dataset to test our model, this includes 6 features "
      ]
    },
    {
      "cell_type": "code",
      "metadata": {
        "colab": {
          "base_uri": "https://localhost:8080/"
        },
        "id": "BDYClzEuO3XY",
        "outputId": "edb0e38e-404e-4ef1-9c8a-20298c0ef3d8"
      },
      "source": [
        "#checking data types in the frame to make sure all numbers\n",
        "data.dtypes"
      ],
      "execution_count": null,
      "outputs": [
        {
          "output_type": "execute_result",
          "data": {
            "text/plain": [
              "age                int64\n",
              "educational-num    int64\n",
              "gender             int64\n",
              "capital gain       int64\n",
              "capital loss       int64\n",
              "hours per week     int64\n",
              "income             int64\n",
              "dtype: object"
            ]
          },
          "metadata": {
            "tags": []
          },
          "execution_count": 19
        }
      ]
    },
    {
      "cell_type": "code",
      "metadata": {
        "colab": {
          "base_uri": "https://localhost:8080/"
        },
        "id": "4Xwnq1kZPOPJ",
        "outputId": "95d45c15-7fe4-44b8-aeb1-509c7dee0ba6"
      },
      "source": [
        "#checking for missing values\n",
        "data.isna().sum()"
      ],
      "execution_count": null,
      "outputs": [
        {
          "output_type": "execute_result",
          "data": {
            "text/plain": [
              "age                0\n",
              "educational-num    0\n",
              "gender             0\n",
              "capital gain       0\n",
              "capital loss       0\n",
              "hours per week     0\n",
              "income             0\n",
              "dtype: int64"
            ]
          },
          "metadata": {
            "tags": []
          },
          "execution_count": 20
        }
      ]
    },
    {
      "cell_type": "code",
      "metadata": {
        "colab": {
          "base_uri": "https://localhost:8080/"
        },
        "id": "gnXlpuRRPWzV",
        "outputId": "390c4089-4881-486b-9dc3-72c7339a6011"
      },
      "source": [
        "#checking for missing values\n",
        "data.isnull().sum()"
      ],
      "execution_count": null,
      "outputs": [
        {
          "output_type": "execute_result",
          "data": {
            "text/plain": [
              "age                0\n",
              "educational-num    0\n",
              "gender             0\n",
              "capital gain       0\n",
              "capital loss       0\n",
              "hours per week     0\n",
              "income             0\n",
              "dtype: int64"
            ]
          },
          "metadata": {
            "tags": []
          },
          "execution_count": 21
        }
      ]
    },
    {
      "cell_type": "code",
      "metadata": {
        "colab": {
          "base_uri": "https://localhost:8080/",
          "height": 261
        },
        "id": "RsypLwQeoGQq",
        "outputId": "83f518fd-cae6-4f80-cab3-cb14291131f1"
      },
      "source": [
        "#check some basic statitsic summary  on our data \n",
        "data.describe().T"
      ],
      "execution_count": null,
      "outputs": [
        {
          "output_type": "execute_result",
          "data": {
            "text/html": [
              "<div>\n",
              "<style scoped>\n",
              "    .dataframe tbody tr th:only-of-type {\n",
              "        vertical-align: middle;\n",
              "    }\n",
              "\n",
              "    .dataframe tbody tr th {\n",
              "        vertical-align: top;\n",
              "    }\n",
              "\n",
              "    .dataframe thead th {\n",
              "        text-align: right;\n",
              "    }\n",
              "</style>\n",
              "<table border=\"1\" class=\"dataframe\">\n",
              "  <thead>\n",
              "    <tr style=\"text-align: right;\">\n",
              "      <th></th>\n",
              "      <th>count</th>\n",
              "      <th>mean</th>\n",
              "      <th>std</th>\n",
              "      <th>min</th>\n",
              "      <th>25%</th>\n",
              "      <th>50%</th>\n",
              "      <th>75%</th>\n",
              "      <th>max</th>\n",
              "    </tr>\n",
              "  </thead>\n",
              "  <tbody>\n",
              "    <tr>\n",
              "      <th>age</th>\n",
              "      <td>32560.0</td>\n",
              "      <td>38.581634</td>\n",
              "      <td>13.640642</td>\n",
              "      <td>17.0</td>\n",
              "      <td>28.0</td>\n",
              "      <td>37.0</td>\n",
              "      <td>48.0</td>\n",
              "      <td>90.0</td>\n",
              "    </tr>\n",
              "    <tr>\n",
              "      <th>educational-num</th>\n",
              "      <td>32560.0</td>\n",
              "      <td>10.080590</td>\n",
              "      <td>2.572709</td>\n",
              "      <td>1.0</td>\n",
              "      <td>9.0</td>\n",
              "      <td>10.0</td>\n",
              "      <td>12.0</td>\n",
              "      <td>16.0</td>\n",
              "    </tr>\n",
              "    <tr>\n",
              "      <th>gender</th>\n",
              "      <td>32560.0</td>\n",
              "      <td>0.330805</td>\n",
              "      <td>0.470510</td>\n",
              "      <td>0.0</td>\n",
              "      <td>0.0</td>\n",
              "      <td>0.0</td>\n",
              "      <td>1.0</td>\n",
              "      <td>1.0</td>\n",
              "    </tr>\n",
              "    <tr>\n",
              "      <th>capital gain</th>\n",
              "      <td>32560.0</td>\n",
              "      <td>1077.615172</td>\n",
              "      <td>7385.402999</td>\n",
              "      <td>0.0</td>\n",
              "      <td>0.0</td>\n",
              "      <td>0.0</td>\n",
              "      <td>0.0</td>\n",
              "      <td>99999.0</td>\n",
              "    </tr>\n",
              "    <tr>\n",
              "      <th>capital loss</th>\n",
              "      <td>32560.0</td>\n",
              "      <td>87.306511</td>\n",
              "      <td>402.966116</td>\n",
              "      <td>0.0</td>\n",
              "      <td>0.0</td>\n",
              "      <td>0.0</td>\n",
              "      <td>0.0</td>\n",
              "      <td>4356.0</td>\n",
              "    </tr>\n",
              "    <tr>\n",
              "      <th>hours per week</th>\n",
              "      <td>32560.0</td>\n",
              "      <td>40.437469</td>\n",
              "      <td>12.347618</td>\n",
              "      <td>1.0</td>\n",
              "      <td>40.0</td>\n",
              "      <td>40.0</td>\n",
              "      <td>45.0</td>\n",
              "      <td>99.0</td>\n",
              "    </tr>\n",
              "    <tr>\n",
              "      <th>income</th>\n",
              "      <td>32560.0</td>\n",
              "      <td>0.240817</td>\n",
              "      <td>0.427586</td>\n",
              "      <td>0.0</td>\n",
              "      <td>0.0</td>\n",
              "      <td>0.0</td>\n",
              "      <td>0.0</td>\n",
              "      <td>1.0</td>\n",
              "    </tr>\n",
              "  </tbody>\n",
              "</table>\n",
              "</div>"
            ],
            "text/plain": [
              "                   count         mean          std  ...   50%   75%      max\n",
              "age              32560.0    38.581634    13.640642  ...  37.0  48.0     90.0\n",
              "educational-num  32560.0    10.080590     2.572709  ...  10.0  12.0     16.0\n",
              "gender           32560.0     0.330805     0.470510  ...   0.0   1.0      1.0\n",
              "capital gain     32560.0  1077.615172  7385.402999  ...   0.0   0.0  99999.0\n",
              "capital loss     32560.0    87.306511   402.966116  ...   0.0   0.0   4356.0\n",
              "hours per week   32560.0    40.437469    12.347618  ...  40.0  45.0     99.0\n",
              "income           32560.0     0.240817     0.427586  ...   0.0   0.0      1.0\n",
              "\n",
              "[7 rows x 8 columns]"
            ]
          },
          "metadata": {
            "tags": []
          },
          "execution_count": 23
        }
      ]
    },
    {
      "cell_type": "markdown",
      "metadata": {
        "id": "d7HXDZFQy8Q7"
      },
      "source": [
        "from the correlation data we can see \"educational-num\" and \"age\" are more correllated to income and seems like gender is negatively corrolated to income"
      ]
    },
    {
      "cell_type": "code",
      "metadata": {
        "colab": {
          "base_uri": "https://localhost:8080/",
          "height": 261
        },
        "id": "N0gjO6TlRtlg",
        "outputId": "786983ed-6ef1-45e1-827e-18128733a502"
      },
      "source": [
        "#looking at some basic correllation data\n",
        "data.corr().T"
      ],
      "execution_count": null,
      "outputs": [
        {
          "output_type": "execute_result",
          "data": {
            "text/html": [
              "<div>\n",
              "<style scoped>\n",
              "    .dataframe tbody tr th:only-of-type {\n",
              "        vertical-align: middle;\n",
              "    }\n",
              "\n",
              "    .dataframe tbody tr th {\n",
              "        vertical-align: top;\n",
              "    }\n",
              "\n",
              "    .dataframe thead th {\n",
              "        text-align: right;\n",
              "    }\n",
              "</style>\n",
              "<table border=\"1\" class=\"dataframe\">\n",
              "  <thead>\n",
              "    <tr style=\"text-align: right;\">\n",
              "      <th></th>\n",
              "      <th>age</th>\n",
              "      <th>educational-num</th>\n",
              "      <th>gender</th>\n",
              "      <th>capital gain</th>\n",
              "      <th>capital loss</th>\n",
              "      <th>hours per week</th>\n",
              "      <th>income</th>\n",
              "    </tr>\n",
              "  </thead>\n",
              "  <tbody>\n",
              "    <tr>\n",
              "      <th>age</th>\n",
              "      <td>1.000000</td>\n",
              "      <td>0.036527</td>\n",
              "      <td>-0.088832</td>\n",
              "      <td>0.077674</td>\n",
              "      <td>0.057775</td>\n",
              "      <td>0.068756</td>\n",
              "      <td>0.234039</td>\n",
              "    </tr>\n",
              "    <tr>\n",
              "      <th>educational-num</th>\n",
              "      <td>0.036527</td>\n",
              "      <td>1.000000</td>\n",
              "      <td>-0.012256</td>\n",
              "      <td>0.122627</td>\n",
              "      <td>0.079932</td>\n",
              "      <td>0.148127</td>\n",
              "      <td>0.335182</td>\n",
              "    </tr>\n",
              "    <tr>\n",
              "      <th>gender</th>\n",
              "      <td>-0.088832</td>\n",
              "      <td>-0.012256</td>\n",
              "      <td>1.000000</td>\n",
              "      <td>-0.048477</td>\n",
              "      <td>-0.045572</td>\n",
              "      <td>-0.229312</td>\n",
              "      <td>-0.215995</td>\n",
              "    </tr>\n",
              "    <tr>\n",
              "      <th>capital gain</th>\n",
              "      <td>0.077674</td>\n",
              "      <td>0.122627</td>\n",
              "      <td>-0.048477</td>\n",
              "      <td>1.000000</td>\n",
              "      <td>-0.031614</td>\n",
              "      <td>0.078409</td>\n",
              "      <td>0.223333</td>\n",
              "    </tr>\n",
              "    <tr>\n",
              "      <th>capital loss</th>\n",
              "      <td>0.057775</td>\n",
              "      <td>0.079932</td>\n",
              "      <td>-0.045572</td>\n",
              "      <td>-0.031614</td>\n",
              "      <td>1.000000</td>\n",
              "      <td>0.054256</td>\n",
              "      <td>0.150523</td>\n",
              "    </tr>\n",
              "    <tr>\n",
              "      <th>hours per week</th>\n",
              "      <td>0.068756</td>\n",
              "      <td>0.148127</td>\n",
              "      <td>-0.229312</td>\n",
              "      <td>0.078409</td>\n",
              "      <td>0.054256</td>\n",
              "      <td>1.000000</td>\n",
              "      <td>0.229690</td>\n",
              "    </tr>\n",
              "    <tr>\n",
              "      <th>income</th>\n",
              "      <td>0.234039</td>\n",
              "      <td>0.335182</td>\n",
              "      <td>-0.215995</td>\n",
              "      <td>0.223333</td>\n",
              "      <td>0.150523</td>\n",
              "      <td>0.229690</td>\n",
              "      <td>1.000000</td>\n",
              "    </tr>\n",
              "  </tbody>\n",
              "</table>\n",
              "</div>"
            ],
            "text/plain": [
              "                      age  educational-num  ...  hours per week    income\n",
              "age              1.000000         0.036527  ...        0.068756  0.234039\n",
              "educational-num  0.036527         1.000000  ...        0.148127  0.335182\n",
              "gender          -0.088832        -0.012256  ...       -0.229312 -0.215995\n",
              "capital gain     0.077674         0.122627  ...        0.078409  0.223333\n",
              "capital loss     0.057775         0.079932  ...        0.054256  0.150523\n",
              "hours per week   0.068756         0.148127  ...        1.000000  0.229690\n",
              "income           0.234039         0.335182  ...        0.229690  1.000000\n",
              "\n",
              "[7 rows x 7 columns]"
            ]
          },
          "metadata": {
            "tags": []
          },
          "execution_count": 25
        }
      ]
    },
    {
      "cell_type": "code",
      "metadata": {
        "colab": {
          "base_uri": "https://localhost:8080/",
          "height": 283
        },
        "id": "i39BTVJ0Ner_",
        "outputId": "6f8f6696-37eb-4f81-e215-703831cdad71"
      },
      "source": [
        "#some basic plots of the data to see shape\n",
        "data['hours per week'].hist()\n",
        "print(\"Histogram of hours per week\")"
      ],
      "execution_count": null,
      "outputs": [
        {
          "output_type": "stream",
          "text": [
            "Histogram of hours per week\n"
          ],
          "name": "stdout"
        },
        {
          "output_type": "display_data",
          "data": {
            "image/png": "[encoded data removed]",
            "text/plain": [
              "<Figure size 432x288 with 1 Axes>"
            ]
          },
          "metadata": {
            "tags": [],
            "needs_background": "light"
          }
        }
      ]
    },
    {
      "cell_type": "code",
      "metadata": {
        "colab": {
          "base_uri": "https://localhost:8080/",
          "height": 283
        },
        "id": "zV66tB3QN1h5",
        "outputId": "d92539f6-3cf4-4e0a-ba03-73eaeac38f73"
      },
      "source": [
        "#some basic plots of the data to see shape\n",
        "data['age'].hist()\n",
        "print('histogram of age')\n",
        "#working age data seems skewed may benifit from using normalisation transform "
      ],
      "execution_count": null,
      "outputs": [
        {
          "output_type": "stream",
          "text": [
            "histogram of age\n"
          ],
          "name": "stdout"
        },
        {
          "output_type": "display_data",
          "data": {
            "image/png": "[encoded data removed]",
            "text/plain": [
              "<Figure size 432x288 with 1 Axes>"
            ]
          },
          "metadata": {
            "tags": [],
            "needs_background": "light"
          }
        }
      ]
    },
    {
      "cell_type": "code",
      "metadata": {
        "colab": {
          "base_uri": "https://localhost:8080/",
          "height": 319
        },
        "id": "W_cQMAm_N6IR",
        "outputId": "e739cea7-a0f5-45c4-cd3a-dbf709a381a1"
      },
      "source": [
        "##some basic plots of the data to see shape\n",
        "data['income'].hist()\n",
        "#noted unlabanced class data, this may need to be rebalanced using ressamplin tools such as SMOTE.\n",
        "data['income'].value_counts()"
      ],
      "execution_count": null,
      "outputs": [
        {
          "output_type": "execute_result",
          "data": {
            "text/plain": [
              "0    24719\n",
              "1     7841\n",
              "Name: income, dtype: int64"
            ]
          },
          "metadata": {
            "tags": []
          },
          "execution_count": 31
        },
        {
          "output_type": "display_data",
          "data": {
            "image/png": "[encoded data removed]",
            "text/plain": [
              "<Figure size 432x288 with 1 Axes>"
            ]
          },
          "metadata": {
            "tags": [],
            "needs_background": "light"
          }
        }
      ]
    },
    {
      "cell_type": "code",
      "metadata": {
        "id": "6aQDG5KXr8H-"
      },
      "source": [
        "# createing our X an y by selecting the columns\n",
        "y= data.drop(columns=[\"age\"\t, \"gender\", \"educational-num\"\t,\"capital gain\"\t,\"capital loss\"\t,\"hours per week\"])\n",
        "X = data.drop(columns=[\"income\"])"
      ],
      "execution_count": null,
      "outputs": []
    },
    {
      "cell_type": "code",
      "metadata": {
        "id": "zblijBkcJkrO"
      },
      "source": [
        "#splitting this data to train and test dataset 80% to 20%\n",
        "X_train, X_test, y_train, y_test = train_test_split(X,y, test_size=0.2, random_state=123)"
      ],
      "execution_count": null,
      "outputs": []
    },
    {
      "cell_type": "code",
      "metadata": {
        "id": "uTe_g_gaJ4Ei"
      },
      "source": [
        "#converting data to nd numpy array and flattening the labels \n",
        "y_train = y_train.to_numpy().ravel()\n",
        "X_train = X_train.to_numpy()\n",
        "y_test = y_test.to_numpy().ravel()\n",
        "X_test = X_test.to_numpy()"
      ],
      "execution_count": null,
      "outputs": []
    },
    {
      "cell_type": "code",
      "metadata": {
        "colab": {
          "base_uri": "https://localhost:8080/"
        },
        "id": "vmMRUsXaJ94N",
        "outputId": "5f63c04a-bb85-4a14-d93e-718120b780b7"
      },
      "source": [
        "#using our preceptron class to fit and predict\n",
        "p= Perceptron(learning_rate=0.001, epochs=150)\n",
        "p.fit(X_train, y_train)\n",
        "y_pred = p.predict(X_test)\n",
        "print(\"Accuracy is : \", acc(y_test, y_pred))\n",
        "#checking confusion matrix\n",
        "print('confusion matrix\\n', confusion_matrix(y_test, y_pred))"
      ],
      "execution_count": null,
      "outputs": [
        {
          "output_type": "stream",
          "text": [
            "Starting weights [0. 0. 0. 0. 0. 0.]\n",
            "Starting bias weight 0\n",
            "Final weights [ 1.2000e-02  7.7000e-01 -3.2710e+00  9.2057e+01 -1.5890e+00  2.1000e-02]\n",
            "Final bias weight -16.67099999999739\n",
            "Accuracy is :  0.7900798525798526\n",
            "confusion matrix\n",
            " [[4789  181]\n",
            " [1186  356]]\n"
          ],
          "name": "stdout"
        }
      ]
    },
    {
      "cell_type": "markdown",
      "metadata": {
        "id": "nMLg0hozzWJt"
      },
      "source": [
        "The model perfomed ok, for 150 epochs and learning rate 0.001 we have accuracy 0.79 however we can see the confusion matrix we can see the false negative rate is high most likely due to unbalaned data."
      ]
    },
    {
      "cell_type": "code",
      "metadata": {
        "colab": {
          "base_uri": "https://localhost:8080/"
        },
        "id": "H5tOX9UaCSzc",
        "outputId": "98341ec8-a426-45b9-b8e4-78a4f6e26774"
      },
      "source": [
        "# since dataset is not balanced we will use SMOTE here to randomly resample and balance the binary class more \n",
        "oversample = SMOTE()\n",
        "X_1, y_1 = oversample.fit_resample(X, y)"
      ],
      "execution_count": null,
      "outputs": [
        {
          "output_type": "stream",
          "text": [
            "/usr/local/lib/python3.6/dist-packages/sklearn/utils/validation.py:760: DataConversionWarning: A column-vector y was passed when a 1d array was expected. Please change the shape of y to (n_samples, ), for example using ravel().\n",
            "  y = column_or_1d(y, warn=True)\n"
          ],
          "name": "stderr"
        }
      ]
    },
    {
      "cell_type": "code",
      "metadata": {
        "colab": {
          "base_uri": "https://localhost:8080/"
        },
        "id": "DUs8T6JWf0T-",
        "outputId": "ccc9ee33-4edc-475b-ea83-6f1bfb92515b"
      },
      "source": [
        "# checking what SMOTE did to our data\n",
        "print('original X shape:' ,X.shape,  'transfoemd X_1 shape:' ,X_1.shape)\n",
        "print('original y shape:' ,y.shape,  'transfoemd y_1 shape:' ,y_1.shape)\n",
        "print('original class balance: ', np.unique(y, return_counts=True), 'smote transform class balance', np.unique(y_1, return_counts=True))"
      ],
      "execution_count": null,
      "outputs": [
        {
          "output_type": "stream",
          "text": [
            "original X shape: (32560, 6) transfoemd X_1 shape: (49438, 6)\n",
            "original y shape: (32560, 1) transfoemd y_1 shape: (49438,)\n",
            "original class balance:  (array([0, 1]), array([24719,  7841])) smote transform class balance (array([0, 1]), array([24719, 24719]))\n"
          ],
          "name": "stdout"
        }
      ]
    },
    {
      "cell_type": "code",
      "metadata": {
        "id": "Q3nN7m82Cj7B"
      },
      "source": [
        "#splitting this data to train and test dataset 80% to 20%\n",
        "X_1train, X_1test, y_1train, y_1test = train_test_split(X_1,y_1, test_size=0.2, random_state=123)"
      ],
      "execution_count": null,
      "outputs": []
    },
    {
      "cell_type": "code",
      "metadata": {
        "colab": {
          "base_uri": "https://localhost:8080/"
        },
        "id": "oo708rdxCt-Y",
        "outputId": "c6068846-a711-4fbf-f46d-23bfd26486c0"
      },
      "source": [
        "#using our preceptron class to fit and predict on balanced data \n",
        "p= Perceptron(learning_rate=0.001, epochs=50)\n",
        "p.fit(X_1train, y_1train)\n",
        "y_1pred = p.predict(X_1test)\n",
        "print(\"Accuracy is : \", acc(y_1test, y_1pred))\n",
        "#checking confusion matrix\n",
        "print('confusion matrix\\n', confusion_matrix(y_1test, y_1pred))"
      ],
      "execution_count": null,
      "outputs": [
        {
          "output_type": "stream",
          "text": [
            "Starting weights [0. 0. 0. 0. 0. 0.]\n",
            "Starting bias weight 0\n",
            "Final weights [ 0.098  0.627 -3.257  8.305  0.689  0.043]\n",
            "Final bias weight -12.369999999998583\n",
            "Accuracy is :  0.7633495145631068\n",
            "confusion matrix\n",
            " [[3760 1157]\n",
            " [1183 3788]]\n"
          ],
          "name": "stdout"
        }
      ]
    },
    {
      "cell_type": "markdown",
      "metadata": {
        "id": "77Fc2uLy0DVl"
      },
      "source": [
        "We can see the false negative rate has reduced and we have a better true positive and and true negative prediction using SMOTE. "
      ]
    },
    {
      "cell_type": "code",
      "metadata": {
        "colab": {
          "base_uri": "https://localhost:8080/"
        },
        "id": "UqQm2QgFnNxk",
        "outputId": "a198ab68-2ed3-43de-ec3c-57135d9080ac"
      },
      "source": [
        "#100 epochs \n",
        "p= Perceptron(learning_rate=0.001, epochs=100)\n",
        "p.fit(X_1train, y_1train)\n",
        "y_1pred = p.predict(X_1test)\n",
        "print(\"Accuracy is : \", acc(y_1test, y_1pred))\n",
        "#checking confusion matrix\n",
        "print('confusion matrix\\n', confusion_matrix(y_1test, y_1pred))"
      ],
      "execution_count": null,
      "outputs": [
        {
          "output_type": "stream",
          "text": [
            "Starting weights [0. 0. 0. 0. 0. 0.]\n",
            "Starting bias weight 0\n",
            "Final weights [ 0.101  0.681 -3.364  8.308  0.612  0.035]\n",
            "Final bias weight -13.63999999999788\n",
            "Accuracy is :  0.7385720064724919\n",
            "confusion matrix\n",
            " [[4118  799]\n",
            " [1786 3185]]\n"
          ],
          "name": "stdout"
        }
      ]
    },
    {
      "cell_type": "code",
      "metadata": {
        "colab": {
          "base_uri": "https://localhost:8080/"
        },
        "id": "6ILB59HdsvbM",
        "outputId": "46ec946d-4048-49f5-a4ec-a724aa158476"
      },
      "source": [
        "#500 epochs apporx 5 min running time \n",
        "p= Perceptron(learning_rate=0.001, epochs=500)\n",
        "p.fit(X_1train, y_1train)\n",
        "y_1pred = p.predict(X_1test)\n",
        "print(\"Accuracy is : \", acc(y_1test, y_1pred))\n",
        "#checking confusion matrix\n",
        "print('confusion matrix\\n', confusion_matrix(y_1test, y_1pred))"
      ],
      "execution_count": null,
      "outputs": [
        {
          "output_type": "stream",
          "text": [
            "Starting weights [0. 0. 0. 0. 0. 0.]\n",
            "Starting bias weight 0\n",
            "Final weights [ 0.102  0.703 -3.381  8.516  0.614  0.053]\n",
            "Final bias weight -13.894999999997738\n",
            "Accuracy is :  0.7604166666666666\n",
            "confusion matrix\n",
            " [[3815 1102]\n",
            " [1267 3704]]\n"
          ],
          "name": "stdout"
        }
      ]
    },
    {
      "cell_type": "markdown",
      "metadata": {
        "id": "s3WTdeY20jWY"
      },
      "source": [
        "# Conclusion:\n",
        "\n",
        "we were able to test our Perceptron model which was built from scrtach using python code. The model perfomed very well on test blob data.\n",
        "We also tested on UCI adult income dataset which perfomed well also.\n",
        "the accuracy is around 73% which is good without much tuning. This can be improved further with grid search methods to find best lr and epoch combo, also early stopping feature might help save time with running too many epochs and overfitting. "
      ]
    },
    {
      "cell_type": "code",
      "metadata": {
        "id": "2TT1DCoJsz7h"
      },
      "source": [
        ""
      ],
      "execution_count": null,
      "outputs": []
    }
  ]
}