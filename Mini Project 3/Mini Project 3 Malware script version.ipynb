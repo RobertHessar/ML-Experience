{
 "cells": [
  {
   "cell_type": "code",
   "execution_count": 28,
   "metadata": {
    "scrolled": true
   },
   "outputs": [
    {
     "name": "stdout",
     "output_type": "stream",
     "text": [
      "Checking feature importance based on 54 total features\n",
      "\n",
      "14 features identified as important:\n",
      "1. feature ImageBase (0.128366)\n",
      "2. feature SizeOfStackReserve (0.113356)\n",
      "3. feature VersionInformationSize (0.109817)\n",
      "4. feature MinorImageVersion (0.080544)\n",
      "5. feature ResourcesMinSize (0.070213)\n",
      "6. feature MajorOperatingSystemVersion (0.059603)\n",
      "7. feature Characteristics (0.048401)\n",
      "8. feature Subsystem (0.041733)\n",
      "9. feature SectionsMaxEntropy (0.033611)\n",
      "10. feature ResourcesNb (0.029696)\n",
      "11. feature ExportNb (0.029112)\n",
      "12. feature BaseOfData (0.028953)\n",
      "13. feature ResourcesMinEntropy (0.019353)\n",
      "14. feature ResourcesMaxEntropy (0.019109)\n",
      "\n",
      "Trying different algorithms\n",
      "+++++++++++++++++++++++++++++++++++++++++++++++++++++++++++++++++++++++++++++++++++++++++++++++++++++++++++++++++++++++++++++\n",
      "DecisionTree : 99.127128 %\n",
      "+++++++++++++++++++++++++++++++++++++++++++++++++++++++++++++++++++++++++++++++++++++++++++++++++++++++++++++++++++++++++++++\n",
      "RandomForest : 99.355306 %\n",
      "+++++++++++++++++++++++++++++++++++++++++++++++++++++++++++++++++++++++++++++++++++++++++++++++++++++++++++++++++++++++++++++\n",
      "XGB : 99.032959 %\n",
      "+++++++++++++++++++++++++++++++++++++++++++++++++++++++++++++++++++++++++++++++++++++++++++++++++++++++++++++++++++++++++++++\n",
      "\n",
      "Winner algorithm is RandomForest with a 99.355306 % success\n",
      "[[19260    93]\n",
      " [   85  8172]]\n",
      "False positive rate : 0.480546 %\n",
      "False negative rate : 1.029430 %\n"
     ]
    }
   ],
   "source": [
    "import pandas as pd\n",
    "import numpy as np\n",
    "import sklearn.ensemble as ske\n",
    "from sklearn.ensemble import RandomForestClassifier\n",
    "from sklearn.model_selection import cross_validate\n",
    "from sklearn import  tree, linear_model\n",
    "from sklearn.feature_selection import SelectFromModel\n",
    "from sklearn.externals import joblib\n",
    "from sklearn.naive_bayes import GaussianNB\n",
    "from sklearn.metrics import confusion_matrix\n",
    "from sklearn.model_selection import train_test_split\n",
    "from xgboost import XGBClassifier\n",
    "from sklearn.tree import DecisionTreeClassifier\n",
    "\n",
    "\n",
    "#IMPORT DATA\n",
    "data = pd.read_csv(\"MalwareData1.csv\" , sep=\"|\")\n",
    "X = data.drop(['Name', 'md5', 'legitimate'], axis=1).values\n",
    "y = data['legitimate'].values\n",
    "\n",
    "print('Checking feature importance based on %i total features\\n' % X.shape[1])\n",
    "\n",
    "# Feature selection using RandomForest Classifier\n",
    "fsel = RandomForestClassifier().fit(X, y)\n",
    "#model = SelectFromModel(fsel, prefit=True, threshold=1e-4) #changing threshold from default mean \n",
    "model = SelectFromModel(fsel, prefit=True) \n",
    "X_new = model.transform(X)\n",
    "nb_features = X_new.shape[1]\n",
    "\n",
    "X_train, X_test, y_train, y_test =train_test_split(X_new, y ,test_size=0.2)\n",
    "\n",
    "features = []\n",
    "\n",
    "print('%i features identified as important:' % nb_features)\n",
    "\n",
    "indices = np.argsort(fsel.feature_importances_)[::-1][:nb_features]\n",
    "for f in range(nb_features):\n",
    "    print(\"%d. feature %s (%f)\" % (f + 1, data.columns[2+indices[f]], fsel.feature_importances_[indices[f]]))\n",
    "\n",
    "# XXX : take care of the feature order\n",
    "for f in sorted(np.argsort(fsel.feature_importances_)[::-1][:nb_features]):\n",
    "    features.append(data.columns[2+f])\n",
    "\n",
    "#Algorithm comparison\n",
    "algorithms = {\n",
    "        \"DecisionTree\": tree.DecisionTreeClassifier(),\n",
    "       \"RandomForest\": ske.RandomForestClassifier(),\n",
    "        \"XGB\": XGBClassifier()\n",
    "    }\n",
    "\n",
    "results = {}\n",
    "print(\"\\nTrying different algorithms\")\n",
    "print(\"+\"*125)\n",
    "for algo in algorithms:\n",
    "    clf = algorithms[algo]\n",
    "    clf.fit(X_train, y_train)\n",
    "    score = clf.score(X_test, y_test)\n",
    "    print(\"%s : %f %%\" % (algo, score*100))\n",
    "    #print(\"Hyper Parms Used:\", clf.get_params())\n",
    "    #print(\"+\"*125)\n",
    "    print(\"+\"*125)\n",
    "    results[algo] = score\n",
    "\n",
    "winner = max(results, key=results.get)\n",
    "print('\\nWinner algorithm is %s with a %f %% success' % (winner, results[winner]*100))\n",
    "\n",
    "\n",
    "\n",
    "# Identify false and true positive rates\n",
    "clf = algorithms[winner]\n",
    "res = clf.predict(X_test)\n",
    "mt = confusion_matrix(y_test, res)\n",
    "print(mt)\n",
    "print(\"False positive rate : %f %%\" % ((mt[0][1] / float(sum(mt[0])))*100))\n",
    "print('False negative rate : %f %%' % ( (mt[1][0] / float(sum(mt[1]))*100)))\n"
   ]
  },
  {
   "cell_type": "code",
   "execution_count": 19,
   "metadata": {},
   "outputs": [],
   "source": [
    "from sklearn.model_selection import train_test_split\n",
    "from sklearn.linear_model import LogisticRegression\n",
    "from sklearn.tree import DecisionTreeClassifier\n",
    "from sklearn.ensemble import RandomForestClassifier\n",
    "from sklearn.metrics import plot_roc_curve"
   ]
  },
  {
   "cell_type": "code",
   "execution_count": 20,
   "metadata": {},
   "outputs": [],
   "source": [
    "#Split data to train and test \n",
    "X_train, X_test, y_train, y_test = train_test_split(X, y, test_size=0.2, random_state=42)"
   ]
  },
  {
   "cell_type": "code",
   "execution_count": 21,
   "metadata": {},
   "outputs": [],
   "source": [
    "\n",
    "# define models\n",
    "lr = XGBClassifier()\n",
    "dt = DecisionTreeClassifier()\n",
    "rf = RandomForestClassifier()"
   ]
  },
  {
   "cell_type": "code",
   "execution_count": 22,
   "metadata": {},
   "outputs": [
    {
     "data": {
      "text/plain": [
       "RandomForestClassifier(bootstrap=True, ccp_alpha=0.0, class_weight=None,\n",
       "                       criterion='gini', max_depth=None, max_features='auto',\n",
       "                       max_leaf_nodes=None, max_samples=None,\n",
       "                       min_impurity_decrease=0.0, min_impurity_split=None,\n",
       "                       min_samples_leaf=1, min_samples_split=2,\n",
       "                       min_weight_fraction_leaf=0.0, n_estimators=100,\n",
       "                       n_jobs=None, oob_score=False, random_state=None,\n",
       "                       verbose=0, warm_start=False)"
      ]
     },
     "execution_count": 22,
     "metadata": {},
     "output_type": "execute_result"
    }
   ],
   "source": [
    "# fit the models \n",
    "lr.fit(X_train, y_train)\n",
    "dt.fit(X_train, y_train)\n",
    "rf.fit(X_train, y_train)"
   ]
  },
  {
   "cell_type": "code",
   "execution_count": 27,
   "metadata": {},
   "outputs": [
    {
     "data": {
      "text/plain": [
       "[<matplotlib.lines.Line2D at 0x1fa2fb7b9b0>]"
      ]
     },
     "execution_count": 27,
     "metadata": {},
     "output_type": "execute_result"
    },
    {
     "data": {
      "image/png": "[encoded data removed]",
      "text/plain": [
       "<Figure size 432x288 with 1 Axes>"
      ]
     },
     "metadata": {
      "needs_background": "light"
     },
     "output_type": "display_data"
    }
   ],
   "source": [
    "import matplotlib.pyplot as plt\n",
    "#Plot ROC AUC\n",
    "disp = plot_roc_curve (lr, X_test, y_test)\n",
    "plot_roc_curve(dt, X_test, y_test, ax=disp.ax_)\n",
    "plot_roc_curve(rf, X_test, y_test, ax=disp.ax_)\n",
    "plt.plot([0, 1], [0, 1],'r--')\n",
    "\n"
   ]
  },
  {
   "cell_type": "code",
   "execution_count": null,
   "metadata": {},
   "outputs": [],
   "source": []
  }
 ],
 "metadata": {
  "kernelspec": {
   "display_name": "Python 3",
   "language": "python",
   "name": "python3"
  },
  "language_info": {
   "codemirror_mode": {
    "name": "ipython",
    "version": 3
   },
   "file_extension": ".py",
   "mimetype": "text/x-python",
   "name": "python",
   "nbconvert_exporter": "python",
   "pygments_lexer": "ipython3",
   "version": "3.7.6"
  }
 },
 "nbformat": 4,
 "nbformat_minor": 2
}
